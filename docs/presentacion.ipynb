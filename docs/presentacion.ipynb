{
 "cells": [
  {
   "cell_type": "markdown",
   "metadata": {},
   "source": [
    "# ImageEncryption"
   ]
  },
  {
   "cell_type": "markdown",
   "metadata": {},
   "source": [
    "Proyecto para Fisica Computacional 2017-1 con Rich\n",
    "\n",
    "#### Autores:\n",
    "- [Adriana Rosalia Sanchez Montes](https://github.com/adriross \"adriross\")\n",
    "- [Ismael Velázquez Gómez](https://github.com/iselplabo93 \"iselplabo93\")\n",
    "- [Raúl Ramírez](https://github.com/jatib \"jatib\")\n",
    "- [Ignacio Vargas Cordero](https://github.com/ignacio-vc \"ignacio-vc\")"
   ]
  },
  {
   "cell_type": "code",
   "execution_count": null,
   "metadata": {
    "collapsed": true
   },
   "outputs": [],
   "source": []
  }
 ],
 "metadata": {
  "kernelspec": {
   "display_name": "Python [Root]",
   "language": "python",
   "name": "Python [Root]"
  },
  "language_info": {
   "codemirror_mode": {
    "name": "ipython",
    "version": 2
   },
   "file_extension": ".py",
   "mimetype": "text/x-python",
   "name": "python",
   "nbconvert_exporter": "python",
   "pygments_lexer": "ipython2",
   "version": "2.7.12"
  }
 },
 "nbformat": 4,
 "nbformat_minor": 0
}
