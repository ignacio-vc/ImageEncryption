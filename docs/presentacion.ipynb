{
 "cells": [
  {
   "cell_type": "markdown",
   "metadata": {
    "nbpresent": {
     "id": "c50fe02c-4cc3-47e8-9316-32e189333afb"
    }
   },
   "source": [
    "# Esteganografía, Compresión y Encriptación de Imágenes en Python\n",
    "\n",
    "Proyecto para Fisica Computacional 2017-1 con Rich\n",
    "\n",
    "#### Autores:\n",
    "- [Adriana Rosalia Sanchez Montes](https://github.com/adriross \"adriross\")\n",
    "- [Ismael Velázquez Gómez](https://github.com/iselplabo93 \"iselplabo93\")\n",
    "- [Raúl Ramírez](https://github.com/jatib \"jatib\")\n",
    "- [Ignacio Vargas Cordero](https://github.com/ignacio-vc \"ignacio-vc\")"
   ]
  },
  {
   "cell_type": "markdown",
   "metadata": {
    "collapsed": true,
    "nbpresent": {
     "id": "159c20f1-5c72-46d7-8ef1-496b07c9212e"
    }
   },
   "source": [
    "## Esteganografía\n",
    "\n",
    "### Introducción\n",
    "\n",
    "El término esteganografía proviene de la unión de dos palabras griegas: steganos, (oculto) y graphos (escritura). La esteganografía se ha empleado con éxito a lo largo de la Historia con distintos procedimientos y en particular durante la Segunda Guerra Mundial.\n",
    "\n",
    "La esteganografía es una técnica que permite ocultar mensajes dentro de un objeto, de forma que no se detecte su presencia y pasen desapercibidos. La técnica que así se emplea consiste  en sustituir ciertos bits de una imagen por los de la información a ocultar. La ventaja de este enfoque es que el tamaño  de la imagen no se ve alterado y, en muchas ocasiones tampoco su calidad. \n",
    "\n",
    "Consiste en sustituir los bits menos significativos (LSB), en una escala de color de 24  bits. Esto se traduce tan sólo en que un píxel con  un tono rojo se ve un 1% más oscuro. En muchos casos son cambios imperceptibles a los sentidos humanos que tan sólo pueden ser detectados mediante análisis computacional de la estructura de los objetos. "
   ]
  },
  {
   "cell_type": "markdown",
   "metadata": {
    "nbpresent": {
     "id": "546b5391-aab8-430c-9d52-6a5f34d8f9a2"
    }
   },
   "source": [
    "### Programación\n",
    "\n",
    "Se realizó un código (encode_image) en el cual se utilizó una imagen para esconder o encriptar en ella un mensaje. En primer lugar se convirtió el mensaje original en codigo ASCII y se verificó que este no contenga más de 255 caracteres ya que este es el límite de bits en un pixel. Se empleó el método de los bits menos significativos (LSB) por lo cual, la imagen se debe de encontrar en formato RGB ya que se usó la porción roja de una imagen (r,g,b) para esconder el mensaje y el valor rojo del primer pixel se utilizó como la longitud de la cadena y este primer valor seria asi la longitud del mensaje."
   ]
  },
  {
   "cell_type": "markdown",
   "metadata": {
    "nbpresent": {
     "id": "01099e9b-c8a0-4d3e-8a31-775cc8889902"
    }
   },
   "source": [
    "<img src=\"proof.png\">\n",
    "\n",
    "Para decodificar la imagen (decode_image), justamente se revisó la porción roja en el mensaje en busca de carácteres (en este caso valores ASCII) escondidos. Se revisó el primer pixel r para obtener la longitud del mensaje y se codificó el mensaje.\n",
    "\n",
    "<img src=\"enc_proof.png\">"
   ]
  },
  {
   "cell_type": "markdown",
   "metadata": {
    "nbpresent": {
     "id": "1e32d132-c9a0-4a72-b059-11c31b5ef6ef"
    }
   },
   "source": [
    "Posteriormente se llevó un programa en el cual realizaba ambos procesos (steganography.py), se ocultaron varios mensajes en distintas imágenes implementando la esteganografía en python. Por medio de definiciones de funciones en el programa, una de ellas,  convirtió el mensaje introducido por el usuario a binario y lo ocultó en la imagen. En el siguiente proceso recuperó un mensaje oculto en una imagen, así como los bloques de 8 bits que ocupó ese mensaje.\n",
    "\n",
    "Con esto se pudo realizar otra programación con diferente códigos para verificar ambos procesos de encriptacion y desencriptacion de imágenes. (Steg2.py, steganography.py)\n",
    "\n",
    "<img src=\"luna.jpeg\">\n",
    "<img src=\"imgsecret23.png\">\n",
    "<img src=\"imgsecret42.png\">"
   ]
  },
  {
   "cell_type": "markdown",
   "metadata": {
    "nbpresent": {
     "id": "b8fb3842-23cc-4908-82c5-15aa253bd508"
    }
   },
   "source": [
    "Por otra parte, tambien se realizó un código (stegaLSB.py) que permitió realizar la técnica LSB en imágenes,  con la cual se pudo ocultar textosen los bits menos significativos de la imagen, \n",
    "El funcionamiento fue llevado a cabo mediante la ocultación de textos dentro de las imágenes (se trato también de realizar el caso inverso, a partir de una imagen con un secreto, recuperándola, se intentó este funcionamiento pero se descarto debido al tipo de programación que se opto).\n",
    "\n",
    "<img src=\"camaleon.png\">\n",
    "<img src=\"imgsecret41.png\">"
   ]
  },
  {
   "cell_type": "markdown",
   "metadata": {
    "nbpresent": {
     "id": "dc6aeaba-e7bb-4e7e-9610-c6124d5d7e0f"
    }
   },
   "source": [
    "## Compresión de imágenes\n",
    "\n",
    "### Aplicaciones de la descomposición en valores singulares.\n",
    "\n",
    "La descomposición en valores singulares de una matriz $A$ es la factorización de $A$ como el producto de dos o más matrices de tal forma que sus factores satisfagan ciertas propiedades deseadas, según el problema a resolver.\n",
    "\n",
    "Es usual procede factorizando la matriz en el producto de matrices triangulares, sea el caso de $LU$ y sus variantes ($LDU,LUP,LL^T$) para resolver ecuaciones lineales como: $Ax=b$ dónde $A\\in\\mathbb{R}^{n\\times n}$ es una matriz cuadrada  y $b\\in\\mathbb{R}^n$ es un vector. Diremos que $L$ es una matriz triangular inferior con $1$s en la diagonal y $U$ es una matriz triangular superior.\n",
    "\n",
    "Una vez que podemos escribir $A$ como $A=LU$, podemos ver el problema origianl como $LUx=b$, lo cual es equivalente al sistema de ecuaciones $Ly=b$ y $Ux=y$. La solución al sistema resulta sencilla, ya que las matrices $U$ y $L$ son triangulares. \n"
   ]
  },
  {
   "cell_type": "markdown",
   "metadata": {
    "nbpresent": {
     "id": "66f06b37-729c-4733-b31d-9d0e22a87a7f"
    }
   },
   "source": [
    "## Cuestiones computacionales.\n",
    "\n",
    "### Tiempo de computo y espacio de alamcenamiento de métodos tipo DVS\n",
    "\n",
    "La solución del sistema debe ser rápida, dado que $U$ y $L$ son matrices triangulares, se tiene pues que el costo computacional de este tipo de problemas es $O(n^2)$, lo que implica que el tiempo de computo es del tipo $T(n)=4n^2 − 2n + 2$.\n",
    "\n",
    "\"Las matrices $ L $ y $ U $ son esencialmente \"subproductos\" de la eliminación gaussiana, donde - $ L $ almacena los pasos del proceso de eliminación y $ U $ almacena la matriz resultante después de la eliminación. Así que para resolver $ Ax = b $ usando la eliminación gaussiana se necesitan $ \\frac {2} {3} n ^ 3 $ flops, mientras crea $ A = LU $, y resolver los dos sistemas triangulares resulta en $ \\frac {2} { 3} n ^ 3 + O (n ^ 2) $ flops que tienen la misma magnitud, por lo que no está claro por qué este esfuerzo adicional marcaría la diferencia. La ganancia que obtenemos es más clara si la tarea consiste en resolver muchas ecuaciones lineales que tienen la misma matriz $ A $ y sólo el lado derecho $ b $ cambia. En este caso, el procedimiento de eliminación, es decir, la creación de la $ LU $ -decomposición debe hacerse sólo una vez. Otra buena aplicación de esta descomposición es calcular el determinante de $ A $. Debido a las formas de $ L $ y $ U $ $$\\det(A) = \\det(LU) = \\det(L)\\cdot\\det(U) = \\det(U) = \\prod_{i=1}^nu_{ii},$$  Así que $ \\ det (A) $ se puede calcular en $ O (n ^ 3) $ flops también (en lugar de usar la regla de Cramer que tiene $ O (n \\cdot n!) $ Complejidad asintótica que lo hace prácticamente inútil).\"\n",
    "\n",
    "<img src=\"Comparison_computational_complexity.png\">"
   ]
  },
  {
   "cell_type": "markdown",
   "metadata": {
    "nbpresent": {
     "id": "79910134-e275-4455-9f76-44190a4fc292"
    }
   },
   "source": [
    "### Descomponiendo una matriz arbitraria\n",
    "\n",
    "Sea $ A \\in \\mathbb {R} ^ {n \\times m} $ una matriz arbitraria (no necesariamente cuadrada). También puede tener valores complejos. Tomando en cuenta sólo casos con valores reales, podemos decir que existen las matrices $ U \\in \\mathbb {R} ^ {n \\times n} $, $ D \\in \\mathbb {R} ^ {n \\ \\times m} $ y $ V \\in \\mathbb {R} ^ {M \\times m} $, tales que \n",
    "$$ A = UDV ^ *, $$ \n",
    "\n",
    "donde $ U $ y $ V $ son matrices unitarias, es decir $U^*U = UU^* = I_n$ y $ V ^ * V = VV ^ * = I_m $ y $ D $ es una matriz diagonal, es decir, es tal que $ d_ {ij} = 0 $ si $ i \\ne j $. La operación estelar significa transposición conjugada, que es $ (V ^ *) _ {ij} = \\overline V_ {ji} $, pero como ahora estamos tratando con matrices reales, esto es lo mismo que la transposición de la matriz. Los elementos diagonales en $ D $ son números no negativos, en orden decreciente:  $d_{ii} = \\sigma_i$, $\\sigma_1\\geq\\sigma_2\\geq\\ldots\\geq\\sigma_r > \\sigma_{r+1} = \\ldots = \\sigma_{\\min(n,m)} = 0$, donde $ r $ es el rango de la matriz $ A $. Estos $ \\sigma $ valores en la diagonal de $ D $ se llaman los valores singulares de $ A $."
   ]
  },
  {
   "cell_type": "markdown",
   "metadata": {
    "nbpresent": {
     "id": "b6702c4c-a9cc-404e-a8bc-c580c7127246"
    }
   },
   "source": [
    "### Aproximaciones de \"bajo rango\" de $ A $\n",
    "\n",
    "Sea $ k \\in \\mathbb {N} $ un número natural dado, donde  $k\\leq\\text{rank}(A)\\leq\\min\\{n, m\\}$. Lo que buscamos es una matriz $ A_k $ con $ \\ text {rank} (A_k) = k $ que es la mejor aproximación de $ A $ entre las matrices que tienen rango igual a $ k $. Para formular el problema de aproximación de rango bajo, queremos resolver el siguiente problema de minimización: $$ \\left|\\left| A - B \\right|\\right|_F \\to \\min !\\qquad \\mbox{ subject to }\\quad B\\in\\mathbb{R}^{n\\times m}, \\ \\text{rank}(B) = k. $$ Aquí $ \\left | \\left | X \\right | \\right | _F $ denota la norma Frobenius de una matriz $ X $ que es el raíz cuadrada de la suma de cuadrados de los elementos de $ X $.\n",
    "\n",
    "La solución de este problema puede obtenerse de la descomposición SVD de $ A $. Si $ A = UDV ^ T $, entonces mantenemos los primeros $ k $ valores en $ D $ como es y establecemos los valores singulares posteriores a cero. Denotemos la matriz diagonal resultante por $ D_k $. Es fácil ver que sólo tenemos que mantener las primeras $ k $ columnas de $ U $ y las primeras $ k $ filas de $ V $, ya que sus otras columnas serían multiplicadas por ceros de todos modos. En resumen, la matriz $ A_k: = U_kD_kV_k ^ * $ es la matriz más cercana a $ A $ (en la norma de Frobenius) con rango $ k $, donde $ U_k $ y $ V_k $ consisten en las primeras $ k $ columnas y Filas de $ U $ y $ V $, respectivamente."
   ]
  },
  {
   "cell_type": "markdown",
   "metadata": {
    "nbpresent": {
     "id": "49d493db-a532-4bdb-961f-27bb235e4db5"
    }
   },
   "source": [
    "### Compresión de imagenes usando DVS\n",
    "\n",
    "Las imágenes se representan en una matriz rectangular donde cada elemento corresponde al valor de escala de grises para ese píxel. Para las imágenes a color tenemos una matriz $ 3 $-dimensional de tamaño $ n \\times m \\times 3 $, donde $ n $ y $ m $ representan el número de píxeles verticalmente y horizontalmente, respectivamente, y para cada píxel almacenamos la intensidad Para los colores rojo, verde y azul.\n",
    "\n",
    "Lo que vamos a hacer es repetir el procedimiento de aproximación de rango inferior arriba en una matriz más grande, es decir, creamos la aproximación de rango bajo de una matriz que representa una imagen para cada color por separado. La matriz resultante $ 3 $-dimensional será una buena aproximación de la imagen original, como veremos pronto."
   ]
  },
  {
   "cell_type": "markdown",
   "metadata": {},
   "source": [
    "Imagen Original\n",
    "<img src=\"test.jpg\">\n",
    "\n",
    "Imagen reconstruida usando la mejor aproximacion rango (Indice 1)\n",
    "<img src=\"indice1.png\">\n",
    "\n",
    "Imagen reconstruida usando la mejor aproximacion rango (Indice 10)\n",
    "<img src=\"indice10.png\">\n",
    "\n",
    "Imagen reconstruida usando la mejor aproximacion rango (Indice 200)\n",
    "<img src=\"indice200.png\">\n",
    "\n"
   ]
  },
  {
   "cell_type": "markdown",
   "metadata": {
    "nbpresent": {
     "id": "af9a0d52-aa7b-4f55-8b7c-6214e361a82c"
    }
   },
   "source": [
    "## Encriptación de Imágenes"
   ]
  },
  {
   "cell_type": "markdown",
   "metadata": {
    "nbpresent": {
     "id": "24730a76-af2e-430b-a7e2-3e749680927e"
    }
   },
   "source": [
    "### La Criptografia\n",
    "\n",
    "La criptografia es la ciencia de usar matematicas para encriptar y desencriptar informacion. La seguridad de la informacion encriptada depende de la calidad del algoritmo utilizado y la secrecia de la llave.\n",
    "\n",
    "La proteccion de nuestra informacion se vuelve cada vez mas importante en el mundo en el que vivimos. Un metodo muy efectivo de proteccion es mediante la encriptacion de nuestros datos. Existen muchas technicas disponibles para prevenir acceso no autorizado a nuestras bases de datos, archivos personales, imagenes, etc. \n",
    "\n",
    "<img src=\"operation.png\">"
   ]
  },
  {
   "cell_type": "markdown",
   "metadata": {
    "nbpresent": {
     "id": "0c099345-e3a4-4b5b-946f-1521efdb80b4"
    }
   },
   "source": [
    "### Librerias de Python"
   ]
  },
  {
   "cell_type": "code",
   "execution_count": null,
   "metadata": {
    "collapsed": true,
    "nbpresent": {
     "id": "ee2f4224-f51a-449e-9abf-a3132c462eb5"
    }
   },
   "outputs": [],
   "source": [
    "#math: funciones matematicas\n",
    "import math\n",
    "\n",
    "#os: da habilidad de usar funciones dependientes en el sistema operativo \n",
    "import os\n",
    "\n",
    "#PyCrypto: nos da funciones de hash seguras y algoritmos de encripcion\n",
    "from Crypto.Cipher import AES\n",
    "\n",
    "#hashlib: implementa una interface comun a varios algoritmos de hash seguros\n",
    "import hashlib\n",
    "\n",
    "#binascii: contiene metodos para convertir entre binario y representarios de binario codificadas con ASCII\n",
    "import binascii\n",
    "\n",
    "#PIL: Python Image Library, agrega la capacidad de manipular imagenes\n",
    "from PIL import Image"
   ]
  },
  {
   "cell_type": "markdown",
   "metadata": {
    "nbpresent": {
     "id": "2cf9239a-b54e-4a97-8491-812a86a7ed95"
    }
   },
   "source": [
    "### AES"
   ]
  },
  {
   "cell_type": "markdown",
   "metadata": {
    "nbpresent": {
     "id": "333b964f-b42b-43d5-9808-2870b171d8c5"
    }
   },
   "source": [
    "Advanced Encryption Standard (AES) es un esquema de cifrado por bloques adoptado como un estándar de cifrado por el gobierno de los Estados Unidos.\n",
    "\n",
    "Desde 2006, el AES es uno de los algoritmos más populares usados en criptografía simétrica.\n",
    "\n",
    "AES tiene un tamaño de bloque fijo de 128 bits y tamaños de llave de 128, 192 o 256 bits.\n",
    "\n",
    "AES opera en una matriz de 4×4 bytes, llamada state\n",
    "\n",
    "<img src=\"algorithm.png\">\n",
    "\n",
    "AES encripta un 'plaintext' para convertirse en 'ciphertext', el cual puede ser desencriptado de vuelta al 'plaintext original' utilizando una \"llave privada\" comun. Es muy importante que el 'ciphertext' sea muy diferente del original y no de pistas del contenido.\n",
    "\n",
    "\n",
    "<img src=\"aes1.png\">\n",
    "En la fase de SubBytes, cada byte en el state es reemplazado con su entrada en una tabla de búsqueda fija de 8 bits, S; bij = S(aij)\n",
    "\n",
    "<img src=\"aes2.png\">\n",
    "En el paso ShiftRows, los bytes en cada fila del state son rotados de manera cíclica hacia la izquierda. El número de lugares que cada byte es rotado difiere para cada fila.\n",
    "\n",
    "<img src=\"aes3.png\">\n",
    "En el paso MixColumns, cada columna del state es multiplicada por un polinomio constante c(x).\n",
    "\n",
    "<img src=\"aes4.png\">\n",
    "En el paso AddRoundKey, cada byte del state se combina con un byte de la subclave usando la operación XOR (⊕)."
   ]
  },
  {
   "cell_type": "markdown",
   "metadata": {
    "nbpresent": {
     "id": "38332199-4105-4b49-b228-13e5254f1909"
    }
   },
   "source": [
    "### Procedimiento y Resultados"
   ]
  },
  {
   "cell_type": "markdown",
   "metadata": {
    "nbpresent": {
     "id": "4e73e91d-12c8-4850-8959-a4dffd3c5199"
    }
   },
   "source": [
    "<img src=\"test.jpg\">\n",
    "\n",
    "Primero, encriptamos la imagen con el algoritmo AES incluido en las librerias de Python. \n",
    "\n",
    "Para hacer esto, importamos la imagen con PIL, tomamos en cuenta sus dimensiones, y la rompemos en listas. Estas listas de datos son las que se mandan al modulo PyCrypto para que le aplique AES, con el usuario eligiendo un Password. En efecto, la imagen ahora queda disuelta en el llamado \"Ciphertext\".\n",
    "\n",
    "Para poder ver la imagen encriptada, la \"hexificamos\" (regresamos la representacion hexadecimal de la informacion en binario) a formato ASCII del binario (gracias a la libreria binascii) , quitamos todos los caracteres de letras y los reemplazamos con numeros aleatorios. De aqui, reconstruimos una imagen de las mismas dimensiones que la original.\n",
    "\n",
    "<img src=\"result.png\">\n",
    "\n",
    "Desencriptar la imagen en si que esta lockeada con un password es relativamente sencillo, el mismo modulo de AES simplemente aplica nuestro password como llave criptografica y nos devuelve la imagen original.\n",
    "\n",
    "<img src=\"filenames.png\">"
   ]
  },
  {
   "cell_type": "code",
   "execution_count": null,
   "metadata": {
    "collapsed": true,
    "nbpresent": {
     "id": "4f8def70-8372-4540-8e85-76c46d182745"
    }
   },
   "outputs": [],
   "source": []
  }
 ],
 "metadata": {
  "kernelspec": {
   "display_name": "Python [Root]",
   "language": "python",
   "name": "Python [Root]"
  },
  "language_info": {
   "codemirror_mode": {
    "name": "ipython",
    "version": 2
   },
   "file_extension": ".py",
   "mimetype": "text/x-python",
   "name": "python",
   "nbconvert_exporter": "python",
   "pygments_lexer": "ipython2",
   "version": "2.7.12"
  },
  "nbpresent": {
   "slides": {
    "16b201e0-ec01-4e46-b16e-53de0d150b99": {
     "id": "16b201e0-ec01-4e46-b16e-53de0d150b99",
     "prev": null,
     "regions": {
      "ac551f89-af92-4d0b-98b8-1448be3fb6f2": {
       "attrs": {
        "height": 1,
        "width": 1,
        "x": 0,
        "y": 0
       },
       "content": {
        "cell": "c50fe02c-4cc3-47e8-9316-32e189333afb",
        "part": "whole"
       },
       "id": "ac551f89-af92-4d0b-98b8-1448be3fb6f2"
      }
     }
    }
   },
   "themes": {}
  }
 },
 "nbformat": 4,
 "nbformat_minor": 0
}
