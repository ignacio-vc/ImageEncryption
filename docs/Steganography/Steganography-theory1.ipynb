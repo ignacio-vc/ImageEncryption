{
 "cells": [
  {
   "cell_type": "markdown",
   "metadata": {},
   "source": [
    "El término esteganografia proviene de la unión de dos palabras griegas: steganos, (oculto) y graphos (escritura). La esteganografía se ha empleado con éxito a lo largo de la Historia con distintos procedimientos y en particular durante la II Guerra Mundial.\n",
    "La esteganografía es una técnica que permite ocultar mensajes dentro de un objeto, de forma que no se detecte su presencia y pasen desapercibidos. \n",
    "La  técnica que asi se emplea consiste  en  sustituir  ciertos  bits  de una imagenn  por  los  de  la  \n",
    "información  a  ocultar.  La  ventaja  de  este  enfoque  es  que  el  tamaño  de la imagen no se ve alterado y, en muchas ocasiones tampoco su calidad. \n",
    "Consiste  en  sustituir  los  bits  menos  \n",
    "significativos  (LSB),  en  una  escala  de  color  de  24  bits.Esto  se  traduce  tan  sólo  en  que  un  píxel  con  un  tono  rojo  se  ve  un  1%  más  oscuro.  En  \n",
    "muchos  casos  son  cambios  imperceptibles  a  los  sentidos  humanos  que  tan  sólo  pueden ser detectados mediante análisis computacional de la estructura de los objetos. \n",
    "\n",
    "Se realizó un código (encode_image) en el cual se utilizó una imagen para esconder o encriptar en ella un mensaje. En primer lugar se conviertió el mensaje original en codigo ASCII y se verificó que este no contenga mas de 255 caracteres ya que este es el límite de bits en un pixel. Se empleó el método de los bits menos significativos (LSB) por lo cual, la imagen se debe de encontrar en formato RGB ya que se usó la porción roja de una imagen (r,g,b) para esconder el mensaje y el valor rojo del primer pixel se utilizó como la longitud de la cadena y este primer valor seria asi la longitud del mensaje.\n"
   ]
  },
  {
   "cell_type": "markdown",
   "metadata": {
    "collapsed": true
   },
   "source": [
    "-- agregar proof.png--\n",
    "Para decodificar la imagen (decode_image), justamente se revisó la porción roja en el mensaje en busca de carácteres (en este caso valores ASCII) escondidos. Se revisó el primer pixel r para obtener la longitud del mensaje y se codificó el mensaje.\n",
    "--enc_proof.png--"
   ]
  },
  {
   "cell_type": "markdown",
   "metadata": {},
   "source": [
    "Posteriormente se llevó un programa en el cual realizaba ambos procesos (steganography.py), se ocultaron varios mensajes en distintas imágenes implementando la esteganografía en python. Por medio de definiciones de funciones en el programa, una de ellas,  conviertió el mensaje introducido por el usuario a binario y lo ocultó en la imagen. En el siguiente proceso recuperó un mensaje oculto en una imagen, así como los bloques de 8 bits que ocupó ese mensaje.\n",
    "Con esto se pudo realizar otra programación con diferente códigos para verificar ambos procesos de encriptacion y desencriptacion de imágenes. (Steg2.py, steganography.py)\n",
    "-luna.png ,imgsecret23.png, imgsecret42.png--"
   ]
  },
  {
   "cell_type": "markdown",
   "metadata": {},
   "source": [
    "Por otra parte, tambien se realizó un código (stegaLSB.py) que permitió realizar la técnica LSB en imágenes,  con la cual se pudo ocultar textos en los bits menos significativos de la imagen, \n",
    "El funcionamiento fue llevado a cabo mediante la ocultación de textos dentro de las imágenes (se trato también de realizar el caso inverso, a partir de una imagen con un secreto, recuperándola, se intentó este funcionamiento pero se descarto debido al tipo de programación que se opto).\n",
    "--agregar camaleon.png, imgsecret41.png-- "
   ]
  },
  {
   "cell_type": "code",
   "execution_count": null,
   "metadata": {
    "collapsed": true
   },
   "outputs": [],
   "source": []
  }
 ],
 "metadata": {
  "anaconda-cloud": {},
  "kernelspec": {
   "display_name": "Python [Root]",
   "language": "python",
   "name": "Python [Root]"
  },
  "language_info": {
   "codemirror_mode": {
    "name": "ipython",
    "version": 2
   },
   "file_extension": ".py",
   "mimetype": "text/x-python",
   "name": "python",
   "nbconvert_exporter": "python",
   "pygments_lexer": "ipython2",
   "version": "2.7.12"
  }
 },
 "nbformat": 4,
 "nbformat_minor": 0
}
