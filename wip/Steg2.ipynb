{
 "cells": [
  {
   "cell_type": "code",
   "execution_count": 2,
   "metadata": {
    "collapsed": true
   },
   "outputs": [],
   "source": [
    "from pylab import *\n",
    "from scipy.integrate import *\n",
    "from binascii import *\n",
    "from PIL import Image\n",
    "from PIL import *\n",
    "%matplotlib inline"
   ]
  },
  {
   "cell_type": "code",
   "execution_count": 6,
   "metadata": {
    "collapsed": false
   },
   "outputs": [
    {
     "name": "stdout",
     "output_type": "stream",
     "text": [
      "(<PIL.PngImagePlugin.PngImageFile image mode=RGB size=480x480 at 0xAC56F4CC>, 'RGB')\n",
      "14\n",
      "enc_proof.png saved!\n"
     ]
    }
   ],
   "source": [
    "def encode_image(img, msg):\n",
    "    \"\"\"\n",
    "    usa la porcion roja de una imagen (r,g,b) para esconder el mensaje \n",
    "    en caracteres ascii y el valor rojo del primer pixel se utiliza como\n",
    "    la longitud de la cadena\n",
    "    \"\"\"\n",
    "    length = len(msg)\n",
    "    # limite del mensaje=255 caracteres\n",
    "    if length > 255:\n",
    "        print(\"texto demasiado largo! ( max 255 caracteres)\")\n",
    "        return False\n",
    "    if img.mode != 'RGB':\n",
    "        print(\"La imagen debe estar en modo RGB\")\n",
    "        return False\n",
    "    #copia la imagen para ocultar el mensaje\n",
    "    encoded = img.copy()\n",
    "    width, height = img.size\n",
    "    index = 0\n",
    "    for row in range(height):\n",
    "        for col in range(width):\n",
    "            r, g, b = img.getpixel((col, row))\n",
    "            # primer valos=longitud del mensaje\n",
    "            if row == 0 and col == 0 and index < length:\n",
    "                asc = length\n",
    "            elif index <= length:\n",
    "                c = msg[index -1]\n",
    "                asc = ord(c)\n",
    "            else:\n",
    "                asc = r\n",
    "            encoded.putpixel((col, row), (asc, g , b))\n",
    "            index += 1\n",
    "    return encoded\n",
    "def decode_image(img):\n",
    "    width, height = img.size\n",
    "    msg = \"\"\n",
    "    index = 0\n",
    "    for row in range(height):\n",
    "        for col in range(width):\n",
    "            try:\n",
    "                r, g, b = img.getpixel((col, row))\n",
    "            except ValueError:\n",
    "                \n",
    "                r, g, b, a = img.getpixel((col, row))\t\t\n",
    "            # el valor del primer pixel r es la longitud del mensaje\n",
    "            if row == 0 and col == 0:\n",
    "                length = r\n",
    "            elif index <= length:\n",
    "                msg += chr(r)\n",
    "            index += 1\n",
    "    return msg\n",
    "original_file = \"proof.png\"\n",
    "\n",
    "img = Image.open(original_file)\n",
    "print(img, img.mode)  # test\n",
    "encoded_image_file = \"enc_\" + original_file\n",
    "secret_msg = \"Mensaje oculto\"\n",
    "print(len(secret_msg))  # test\n",
    "img_encoded = encode_image(img, secret_msg)\n",
    "if img_encoded:\n",
    "    img_encoded.save(encoded_image_file)\n",
    "    print(\"{} saved!\".format(encoded_image_file))\n",
    "    import webbrowser\n",
    "    webbrowser.open(encoded_image_file)"
   ]
  },
  {
   "cell_type": "code",
   "execution_count": 7,
   "metadata": {
    "collapsed": false
   },
   "outputs": [
    {
     "name": "stdout",
     "output_type": "stream",
     "text": [
      "Hidden text:\n",
      "Mensaje oculto\n"
     ]
    }
   ],
   "source": [
    "#regresa el mensaje oculto\n",
    "img2 = Image.open(encoded_image_file)\n",
    "hidden_text = decode_image(img2)\n",
    "print(\"Hidden text:\\n{}\".format(hidden_text))"
   ]
  },
  {
   "cell_type": "code",
   "execution_count": null,
   "metadata": {
    "collapsed": true
   },
   "outputs": [],
   "source": []
  }
 ],
 "metadata": {
  "anaconda-cloud": {},
  "kernelspec": {
   "display_name": "Python [Root]",
   "language": "python",
   "name": "Python [Root]"
  },
  "language_info": {
   "codemirror_mode": {
    "name": "ipython",
    "version": 2
   },
   "file_extension": ".py",
   "mimetype": "text/x-python",
   "name": "python",
   "nbconvert_exporter": "python",
   "pygments_lexer": "ipython2",
   "version": "2.7.12"
  }
 },
 "nbformat": 4,
 "nbformat_minor": 0
}
