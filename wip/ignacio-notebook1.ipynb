{
 "cells": [
  {
   "cell_type": "markdown",
   "metadata": {},
   "source": [
    "Esta es una prueba para demostrar el problema con version control de ipynb's."
   ]
  },
  {
   "cell_type": "code",
   "execution_count": 1,
   "metadata": {
    "collapsed": false
   },
   "outputs": [
    {
     "name": "stdout",
     "output_type": "stream",
     "text": [
      "Hello\n"
     ]
    }
   ],
   "source": [
    "print(\"Hello\")"
   ]
  },
  {
   "cell_type": "code",
   "execution_count": 2,
   "metadata": {
    "collapsed": false,
    "scrolled": true
   },
   "outputs": [
    {
     "name": "stdout",
     "output_type": "stream",
     "text": [
      "I printed it again\n"
     ]
    }
   ],
   "source": [
    "print(\"I printed it again\")"
   ]
  },
  {
   "cell_type": "code",
   "execution_count": 1,
   "metadata": {
    "collapsed": true
   },
   "outputs": [],
   "source": [
    "from cryptography.fernet import Fernet\n",
    "key = Fernet.generate_key()\n",
    "cipher_suite = Fernet(key)\n",
    "cipher_text = cipher_suite.encrypt(b\"A really secret message. Not for prying eyes.\")\n",
    "plain_text = cipher_suite.decrypt(cipher_text)"
   ]
  },
  {
   "cell_type": "code",
   "execution_count": 2,
   "metadata": {
    "collapsed": false
   },
   "outputs": [
    {
     "name": "stdout",
     "output_type": "stream",
     "text": [
      "gAAAAABYP0W4B2OaDQ5P9oZxXm14c4LmKMqJbI1r6dM9phX_7nKJ-5EPlpRiDWQF5-t1qHF14-ZwoHLcpifubMAW2MtReTXIMQRaMNBHyk27-Gzb9-MVMWfkZRHDQtMYKCtgNeFESW1f\n"
     ]
    }
   ],
   "source": [
    "print cipher_text"
   ]
  },
  {
   "cell_type": "code",
   "execution_count": 3,
   "metadata": {
    "collapsed": false
   },
   "outputs": [
    {
     "name": "stdout",
     "output_type": "stream",
     "text": [
      "A really secret message. Not for prying eyes.\n"
     ]
    }
   ],
   "source": [
    "print plain_text"
   ]
  },
  {
   "cell_type": "code",
   "execution_count": 5,
   "metadata": {
    "collapsed": false
   },
   "outputs": [
    {
     "data": {
      "text/plain": [
       "'A really secret message. Not for prying eyes.'"
      ]
     },
     "execution_count": 5,
     "metadata": {},
     "output_type": "execute_result"
    }
   ],
   "source": [
    ">>> from cryptography.fernet import Fernet\n",
    ">>> # Put this somewhere safe!\n",
    ">>> key = Fernet.generate_key()\n",
    ">>> f = Fernet(key)\n",
    ">>> token = f.encrypt(b\"A really secret message. Not for prying eyes.\")\n",
    ">>> token\n",
    "'...'\n",
    ">>> f.decrypt(token)\n",
    "'A really secret message. Not for prying eyes.'"
   ]
  },
  {
   "cell_type": "markdown",
   "metadata": {},
   "source": [
    "# Encryption, Stegnography, and Compression of Images in Python\n",
    "\n",
    "## Image Encryption in Python"
   ]
  },
  {
   "cell_type": "code",
   "execution_count": 6,
   "metadata": {
    "collapsed": true
   },
   "outputs": [],
   "source": [
    "from Tkinter import *\n",
    "from tkFileDialog import *\n",
    "import tkMessageBox\n",
    "import os\n",
    "from PIL import Image\n",
    "import math\n",
    "from Crypto.Cipher import AES\n",
    "import hashlib\n",
    "import binascii"
   ]
  },
  {
   "cell_type": "code",
   "execution_count": 7,
   "metadata": {
    "collapsed": true
   },
   "outputs": [],
   "source": [
    "global password # make pass global var\n",
    "\n",
    "# encryption method\n",
    "# -----------------\n",
    "def encrypt(imagename,password):\n",
    "    # initialize variables\n",
    "    plaintext = list()\n",
    "    plaintextstr = \"\"\n",
    "\n",
    "    # load the image\n",
    "    im = Image.open(imagename)  # open target image\n",
    "    pix = im.load()\n",
    "\n",
    "    #print im.size   # print size of image (width,height)\n",
    "    width = im.size[0]\n",
    "    height = im.size[1]\n",
    "\n",
    "    # break up the image into a list, each with pixel values and then append to a string\n",
    "    for y in range(0,height):\n",
    "        #print(\"Row: %d\") %y  # print row number\n",
    "        for x in range(0,width):\n",
    "            #print pix[x,y]  # print each pixel RGB tuple\n",
    "            plaintext.append(pix[x,y])\n",
    "\n",
    "    # add 100 to each tuple value to make sure each are 3 digits long.  being able to do this is really just a PoC\n",
    "    # that you'll be able to use a raw application of RSA to encrypt, rather than PyCrypto if you wanted.\n",
    "    for i in range(0,len(plaintext)):\n",
    "        for j in range(0,3):\n",
    "            plaintextstr = plaintextstr + \"%d\" %(int(plaintext[i][j])+100)\n",
    "\n",
    "    # length save for encrypted image reconstruction\n",
    "    relength = len(plaintext)\n",
    "\n",
    "    # append dimensions of image for reconstruction after decryption\n",
    "    plaintextstr += \"h\" + str(height) + \"h\" + \"w\" + str(width) + \"w\"\n",
    "\n",
    "    # make sure that plantextstr length is a multiple of 16 for AES.  if not, append \"n\".  not safe in theory\n",
    "    # and i should probably replace this with an initialization vector IV = 16 * '\\x00' at some point.  In practice\n",
    "    # this IV buffer should be random.\n",
    "    while (len(plaintextstr) % 16 != 0):\n",
    "        plaintextstr = plaintextstr + \"n\"\n",
    "\n",
    "    # encrypt plaintext\n",
    "    obj = AES.new(password, AES.MODE_CBC, 'This is an IV456')\n",
    "    ciphertext = obj.encrypt(plaintextstr)\n",
    "\n",
    "    # write ciphertext to file for analysis\n",
    "    cipher_name = imagename + \".crypt\"\n",
    "    g = open(cipher_name, 'w')\n",
    "    g.write(ciphertext)"
   ]
  },
  {
   "cell_type": "code",
   "execution_count": null,
   "metadata": {
    "collapsed": true
   },
   "outputs": [],
   "source": []
  }
 ],
 "metadata": {
  "kernelspec": {
   "display_name": "Python [Root]",
   "language": "python",
   "name": "Python [Root]"
  },
  "language_info": {
   "codemirror_mode": {
    "name": "ipython",
    "version": 2
   },
   "file_extension": ".py",
   "mimetype": "text/x-python",
   "name": "python",
   "nbconvert_exporter": "python",
   "pygments_lexer": "ipython2",
   "version": "2.7.12"
  }
 },
 "nbformat": 4,
 "nbformat_minor": 0
}
