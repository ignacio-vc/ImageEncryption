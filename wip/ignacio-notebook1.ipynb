{
 "cells": [
  {
   "cell_type": "markdown",
   "metadata": {},
   "source": [
    "Esta es una prueba para demostrar el problema con version control de ipynb's."
   ]
  },
  {
   "cell_type": "code",
   "execution_count": 1,
   "metadata": {
    "collapsed": false
   },
   "outputs": [
    {
     "name": "stdout",
     "output_type": "stream",
     "text": [
      "Hello\n"
     ]
    }
   ],
   "source": [
    "print(\"Hello\")"
   ]
  },
  {
   "cell_type": "code",
   "execution_count": 2,
   "metadata": {
    "collapsed": false,
    "scrolled": true
   },
   "outputs": [
    {
     "name": "stdout",
     "output_type": "stream",
     "text": [
      "I printed it again\n"
     ]
    }
   ],
   "source": [
    "print(\"I printed it again\")"
   ]
  },
  {
   "cell_type": "code",
   "execution_count": 3,
   "metadata": {
    "collapsed": true
   },
   "outputs": [],
   "source": [
    "from cryptography.fernet import Fernet\n",
    "key = Fernet.generate_key()\n",
    "cipher_suite = Fernet(key)\n",
    "cipher_text = cipher_suite.encrypt(b\"A really secret message. Not for prying eyes.\")\n",
    "plain_text = cipher_suite.decrypt(cipher_text)"
   ]
  },
  {
   "cell_type": "code",
   "execution_count": 4,
   "metadata": {
    "collapsed": false
   },
   "outputs": [
    {
     "name": "stdout",
     "output_type": "stream",
     "text": [
      "gAAAAABYQf1IYtt9WKQrw76t5DYoCoQl2LvQeYxH7CDZyMEQpL75BQs8X4P8PUJpG1kOO5bCawuA_T_TMk5FU7m2Yi5nm4OGdMlsJXXYblmvpINFL4PZIIDVUrloLsY4XW6NnR2w6B4e\n"
     ]
    }
   ],
   "source": [
    "print cipher_text"
   ]
  },
  {
   "cell_type": "code",
   "execution_count": 5,
   "metadata": {
    "collapsed": false
   },
   "outputs": [
    {
     "name": "stdout",
     "output_type": "stream",
     "text": [
      "A really secret message. Not for prying eyes.\n"
     ]
    }
   ],
   "source": [
    "print plain_text"
   ]
  },
  {
   "cell_type": "code",
   "execution_count": 6,
   "metadata": {
    "collapsed": false
   },
   "outputs": [
    {
     "data": {
      "text/plain": [
       "'A really secret message. Not for prying eyes.'"
      ]
     },
     "execution_count": 6,
     "metadata": {},
     "output_type": "execute_result"
    }
   ],
   "source": [
    ">>> from cryptography.fernet import Fernet\n",
    ">>> # Put this somewhere safe!\n",
    ">>> key = Fernet.generate_key()\n",
    ">>> f = Fernet(key)\n",
    ">>> token = f.encrypt(b\"A really secret message. Not for prying eyes.\")\n",
    ">>> token\n",
    "'...'\n",
    ">>> f.decrypt(token)\n",
    "'A really secret message. Not for prying eyes.'"
   ]
  },
  {
   "cell_type": "markdown",
   "metadata": {},
   "source": [
    "# Encryption, Stegnography, and Compression of Images in Python\n",
    "\n",
    "## Image Encryption in Python"
   ]
  },
  {
   "cell_type": "code",
   "execution_count": 7,
   "metadata": {
    "collapsed": true
   },
   "outputs": [],
   "source": [
    "#math: mathematical functions defined by C standard\n",
    "import math\n",
    "\n",
    "#os: provides a way of using operating system dependent functionality \n",
    "import os\n",
    "\n",
    "#PIL: Python Image Library adds image processsing capabilities\n",
    "from PIL import Image\n",
    "\n",
    "#PyCrypto: provides secure hash functions and various encryption algorithms\n",
    "from Crypto.Cipher import AES\n",
    "\n",
    "#hashlib: implements a common interface to many different secure hash and message digest algorithms\n",
    "import hashlib\n",
    "\n",
    "#binascii: contains a number of methods to convert between binary and various ASCII-encoded binary representations.\n",
    "import binascii\n",
    "\n",
    "#Tkinter: default GUI package\n",
    "from Tkinter import *\n",
    "from tkFileDialog import *\n",
    "import tkMessageBox"
   ]
  },
  {
   "cell_type": "code",
   "execution_count": 8,
   "metadata": {
    "collapsed": true
   },
   "outputs": [],
   "source": [
    "global password # declare global variable \"password\"\n",
    "\n",
    "#ENCRYPTION METHOD:\n",
    "\n",
    "def encrypt(imagename, password):\n",
    "    # we initialize variables\n",
    "    plaintext = list()\n",
    "    plaintextstr = \"\"\n",
    "\n",
    "    # load the desired image\n",
    "    im = Image.open(imagename)\n",
    "    pix = im.load()\n",
    "\n",
    "    #print im.size   # print size of image (width,height)\n",
    "    width = im.size[0]\n",
    "    height = im.size[1]\n",
    "\n",
    "    # break up the image into a list, each with pixel values and then append to a string\n",
    "    for y in range(0,height):\n",
    "        #print(\"Row: %d\") %y  # print row number\n",
    "        for x in range(0,width):\n",
    "            #print pix[x,y]  # print each pixel RGB tuple\n",
    "            plaintext.append(pix[x,y])\n",
    "\n",
    "    # add 100 to each tuple value to make sure each are 3 digits long.  being able to do this is really just a PoC\n",
    "    # that you'll be able to use a raw application of RSA to encrypt, rather than PyCrypto if you wanted.\n",
    "    for i in range(0,len(plaintext)):\n",
    "        for j in range(0,3):\n",
    "            plaintextstr = plaintextstr + \"%d\" %(int(plaintext[i][j])+100)\n",
    "\n",
    "    # length save for encrypted image reconstruction\n",
    "    relength = len(plaintext)\n",
    "\n",
    "    # append dimensions of image for reconstruction after decryption\n",
    "    plaintextstr += \"h\" + str(height) + \"h\" + \"w\" + str(width) + \"w\"\n",
    "\n",
    "    # make sure that plantextstr length is a multiple of 16 for AES.  if not, append \"n\".  not safe in theory\n",
    "    # and i should probably replace this with an initialization vector IV = 16 * '\\x00' at some point.  In practice\n",
    "    # this IV buffer should be random.\n",
    "    while (len(plaintextstr) % 16 != 0):\n",
    "        plaintextstr = plaintextstr + \"n\"\n",
    "\n",
    "    # encrypt plaintext\n",
    "    obj = AES.new(password, AES.MODE_CBC, 'This is an IV456')\n",
    "    ciphertext = obj.encrypt(plaintextstr)\n",
    "\n",
    "    # write ciphertext to file for analysis\n",
    "    cipher_name = imagename + \".crypt\"\n",
    "    g = open(cipher_name, 'w')\n",
    "    g.write(ciphertext)\n",
    "\n",
    "    # -----------------\n",
    "    # construct encrypted image (not currently using since Tkinter isn't very nice)\n",
    "    # -----------------\n",
    "    def construct_enc_image():\n",
    "        # hexlify the ciphertext\n",
    "        asciicipher = binascii.hexlify(ciphertext)\n",
    "\n",
    "        # replace function\n",
    "        def replace_all(text, dic):\n",
    "            for i, j in dic.iteritems():\n",
    "                text = text.replace(i, j)\n",
    "            return text\n",
    "\n",
    "        # use replace function to replace ascii cipher characters with numbers\n",
    "        reps = {'a':'1', 'b':'2', 'c':'3', 'd':'4', 'e':'5', 'f':'6', 'g':'7', 'h':'8', 'i':'9', 'j':'10', 'k':'11', 'l':'12', 'm':'13', 'n':'14', 'o':'15', 'p':'16', 'q':'17', 'r':'18', 's':'19', 't':'20', 'u':'21', 'v':'22', 'w':'23', 'x':'24', 'y':'25', 'z':'26'}\n",
    "        asciiciphertxt = replace_all(asciicipher, reps)\n",
    "\n",
    "        # construct encrypted image\n",
    "        step = 3\n",
    "        encimageone=[asciiciphertxt[i:i+step] for i in range(0, len(asciiciphertxt), step)]\n",
    "        # if the last pixel RGB value is less than 3-digits, add a digit a 1\n",
    "        if int(encimageone[len(encimageone)-1]) < 100:\n",
    "            encimageone[len(encimageone)-1] += \"1\"\n",
    "        # check to see if we can divide the string into partitions of 3 digits.  if not, fill in with some garbage RGB values\n",
    "        if len(encimageone) % 3 != 0:\n",
    "            while (len(encimageone) % 3 != 0):\n",
    "                encimageone.append(\"101\")\n",
    "\n",
    "        encimagetwo=[(int(encimageone[int(i)]),int(encimageone[int(i+1)]),int(encimageone[int(i+2)])) for i in range(0, len(encimageone), step)]\n",
    "\n",
    "        # make sizes of images equal\n",
    "        while (int(relength) != len(encimagetwo)):\n",
    "            encimagetwo.pop()\n",
    "\n",
    "        # encrypted image\n",
    "        encim = Image.new(\"RGB\", (int(width),int(height)))\n",
    "        encim.putdata(encimagetwo)\n",
    "\n",
    "        #encim.show()\n",
    "        # alert success and path to image\n",
    "        enc_success(cipher_name)\n",
    "\n",
    "    construct_enc_image()"
   ]
  },
  {
   "cell_type": "code",
   "execution_count": 9,
   "metadata": {
    "collapsed": true
   },
   "outputs": [],
   "source": [
    "# decryption method\n",
    "# -----------------\n",
    "def decrypt(ciphername,password):\n",
    "\n",
    "    # reach ciphertext into memory\n",
    "    cipher = open(ciphername,'r')\n",
    "    ciphertext = cipher.read()\n",
    "\n",
    "    # decrypt ciphertext with password\n",
    "    obj2 = AES.new(password, AES.MODE_CBC, 'This is an IV456')\n",
    "    decrypted = obj2.decrypt(ciphertext)\n",
    "\n",
    "    # parse the decrypted text back into integer string\n",
    "    decrypted = decrypted.replace(\"n\",\"\")\n",
    "\n",
    "    # extract dimensions of images\n",
    "    newwidth = decrypted.split(\"w\")[1]\n",
    "    newheight = decrypted.split(\"h\")[1]\n",
    "\n",
    "    # replace height and width with emptyspace in decrypted plaintext\n",
    "    heightr = \"h\" + str(newheight) + \"h\"\n",
    "    widthr = \"w\" + str(newwidth) + \"w\"\n",
    "    decrypted = decrypted.replace(heightr,\"\")\n",
    "    decrypted = decrypted.replace(widthr,\"\")\n",
    "\n",
    "    # reconstruct the list of RGB tuples from the decrypted plaintext\n",
    "    step = 3\n",
    "    finaltextone=[decrypted[i:i+step] for i in range(0, len(decrypted), step)]\n",
    "    finaltexttwo=[(int(finaltextone[int(i)])-100,int(finaltextone[int(i+1)])-100,int(finaltextone[int(i+2)])-100) for i in range(0, len(finaltextone), step)]\n",
    "\n",
    "    # reconstruct image from list of pixel RGB tuples\n",
    "    newim = Image.new(\"RGB\", (int(newwidth), int(newheight)))\n",
    "    newim.putdata(finaltexttwo)\n",
    "    newim.show()"
   ]
  },
  {
   "cell_type": "code",
   "execution_count": 10,
   "metadata": {
    "collapsed": true
   },
   "outputs": [],
   "source": [
    "# ---------------------\n",
    "# GUI stuff starts here\n",
    "# ---------------------\n",
    "\n",
    "# empty password alert\n",
    "def pass_alert():\n",
    "   tkMessageBox.showinfo(\"Password Alert\",\"Please enter a password.\")\n",
    "\n",
    "def enc_success(imagename):\n",
    "   tkMessageBox.showinfo(\"Success\",\"Encrypted Image: \" + imagename)\n",
    "\n",
    "# image encrypt button event\n",
    "def image_open():\n",
    "    # useless for now, may need later\n",
    "    global file_path_e\n",
    "\n",
    "    # check to see if password entry is null.  if yes, alert\n",
    "    enc_pass = passg.get()\n",
    "    if enc_pass == \"\":\n",
    "        pass_alert()\n",
    "    else:\n",
    "        password = hashlib.sha256(enc_pass).digest()\n",
    "        filename = askopenfilename()\n",
    "        file_path_e = os.path.dirname(filename)\n",
    "        # encrypt the image\n",
    "        encrypt(filename,password)\n",
    "\n",
    "# image decrypt button event\n",
    "def cipher_open():\n",
    "    # useless for now, may need later\n",
    "    global file_path_d\n",
    "\n",
    "    # check to see if password entry is null.  if yes, alert\n",
    "    dec_pass = passg.get()\n",
    "    if dec_pass == \"\":\n",
    "        pass_alert()\n",
    "    else:\n",
    "        password = hashlib.sha256(dec_pass).digest()\n",
    "        filename = askopenfilename()\n",
    "        file_path_d = os.path.dirname(filename)\n",
    "        # decrypt the ciphertext\n",
    "        decrypt(filename,password)\n",
    "\n",
    "# main gui app starts here\n",
    "class App:\n",
    "  def __init__(self, master):\n",
    "    # make passg global to use in functions\n",
    "    global passg\n",
    "    # setup frontend titles etc blah blah\n",
    "    title = \"Image Encryption\"\n",
    "    author = \"Cahlen Humphreys\\ncahlen@gmail.com\"\n",
    "    msgtitle = Message(master, text =title)\n",
    "    msgtitle.config(font=('helvetica', 17, 'bold'), width=200)\n",
    "    msgauthor = Message(master, text=author)\n",
    "    msgauthor.config(font=('helvetica',10), width=200)\n",
    "\n",
    "    # draw canvas\n",
    "    canvas_width = 200\n",
    "    canvas_height = 50\n",
    "    w = Canvas(master,\n",
    "           width=canvas_width,\n",
    "           height=canvas_height)\n",
    "\n",
    "    # pack the GUI, this is basic, we shold use a grid system\n",
    "    msgtitle.pack()\n",
    "    msgauthor.pack()\n",
    "    w.pack()\n",
    "\n",
    "    # password field here above buttons\n",
    "    passlabel = Label(master, text=\"Enter Encrypt/Decrypt Password:\")\n",
    "    passlabel.pack()\n",
    "    passg = Entry(master, show=\"*\", width=20)\n",
    "    passg.pack()\n",
    "\n",
    "    # add both encrypt/decrypt buttons here which trigger file browsers\n",
    "    self.encrypt = Button(master,\n",
    "                         text=\"Encrypt\", fg=\"black\",\n",
    "                         command=image_open, width=25,height=5)\n",
    "    self.encrypt.pack(side=LEFT)\n",
    "    self.decrypt = Button(master,\n",
    "                         text=\"Decrypt\", fg=\"black\",\n",
    "                         command=cipher_open, width=25,height=5)\n",
    "    self.decrypt.pack(side=RIGHT)"
   ]
  },
  {
   "cell_type": "code",
   "execution_count": 11,
   "metadata": {
    "collapsed": true
   },
   "outputs": [],
   "source": [
    "root = Tk()\n",
    "root.wm_title(\"Image Encryption\")\n",
    "app = App(root)\n",
    "root.mainloop()"
   ]
  }
 ],
 "metadata": {
  "kernelspec": {
   "display_name": "Python [Root]",
   "language": "python",
   "name": "Python [Root]"
  },
  "language_info": {
   "codemirror_mode": {
    "name": "ipython",
    "version": 2
   },
   "file_extension": ".py",
   "mimetype": "text/x-python",
   "name": "python",
   "nbconvert_exporter": "python",
   "pygments_lexer": "ipython2",
   "version": "2.7.12"
  }
 },
 "nbformat": 4,
 "nbformat_minor": 0
}
