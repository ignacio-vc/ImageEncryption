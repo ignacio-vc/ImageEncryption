{
 "cells": [
  {
   "cell_type": "code",
   "execution_count": 1,
   "metadata": {
    "collapsed": true
   },
   "outputs": [],
   "source": [
    "import sys\n",
    "import wave\n",
    "import math\n",
    "import struct\n",
    "import random\n",
    "import argparse\n",
    "from itertools import *"
   ]
  },
  {
   "cell_type": "code",
   "execution_count": 2,
   "metadata": {
    "collapsed": true
   },
   "outputs": [],
   "source": [
    "def sine_wave(frequency=440.0, framerate=44100, amplitude=0.5):\n",
    "    period = int(framerate / frequency)\n",
    "    if amplitude > 1.0: amplitude = 1.0\n",
    "    if amplitude < 0.0: amplitude = 0.0\n",
    "    lookup_table = [float(amplitude) * math.sin(2.0*math.pi*float(frequency)*(float(i%period)/float(framerate))) for i in xrange(period)]"
   ]
  },
  {
   "cell_type": "code",
   "execution_count": 3,
   "metadata": {
    "collapsed": true
   },
   "outputs": [],
   "source": [
    "def white_noise(amplitude=0.5):\n",
    "    return (float(amplitude) * random.uniform(-1, 1) for _ in count(0))"
   ]
  },
  {
   "cell_type": "code",
   "execution_count": 4,
   "metadata": {
    "collapsed": true
   },
   "outputs": [],
   "source": [
    "noise = cycle(islice(white_noise(), 44100))"
   ]
  },
  {
   "cell_type": "code",
   "execution_count": 5,
   "metadata": {
    "collapsed": true
   },
   "outputs": [],
   "source": [
    "channels = ((sine_wave(200.0, amplitude=0.1), white_noise(amplitude=0.001)),\n",
    "            (sine_wave(205.0, amplitude=0.1), white_noise(amplitude=0.001)))"
   ]
  },
  {
   "cell_type": "code",
   "execution_count": 6,
   "metadata": {
    "collapsed": true
   },
   "outputs": [],
   "source": [
    "def compute_samples(channels, nsamples=None):\n",
    "    return islice(izip(*(imap(sum, izip(*channel)) for channel in channels)), nsamples)"
   ]
  },
  {
   "cell_type": "code",
   "execution_count": 7,
   "metadata": {
    "collapsed": false
   },
   "outputs": [
    {
     "data": {
      "text/plain": [
       "<itertools.islice at 0x7f8e685715d0>"
      ]
     },
     "execution_count": 7,
     "metadata": {},
     "output_type": "execute_result"
    }
   ],
   "source": [
    "channel1 = ((sine_wave(200.0, amplitude=0.1), white_noise(amplitude=0.001)),(sine_wave(205.0, amplitude=0.1), white_noise(amplitude=0.001)))\n",
    "channel2 = ((sine_wave(300.0, amplitude=0.1), white_noise(amplitude=0.001)),(sine_wave(405.0, amplitude=0.1), white_noise(amplitude=0.001)))\n",
    "channeling = (channel1,channel2)\n",
    "compute_samples(channeling)"
   ]
  }
 ],
 "metadata": {
  "celltoolbar": "Raw Cell Format",
  "kernelspec": {
   "display_name": "Python 2",
   "language": "python",
   "name": "python2"
  },
  "language_info": {
   "codemirror_mode": {
    "name": "ipython",
    "version": 2
   },
   "file_extension": ".py",
   "mimetype": "text/x-python",
   "name": "python",
   "nbconvert_exporter": "python",
   "pygments_lexer": "ipython2",
   "version": "2.7.9"
  }
 },
 "nbformat": 4,
 "nbformat_minor": 2
}
