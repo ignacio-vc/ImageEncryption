{
 "cells": [
  {
   "cell_type": "code",
   "execution_count": 4,
   "metadata": {
    "collapsed": true
   },
   "outputs": [],
   "source": [
    "import sys\n",
    "import wave\n",
    "import math\n",
    "import struct\n",
    "import random\n",
    "import argparse\n",
    "from itertools import *"
   ]
  },
  {
   "cell_type": "code",
   "execution_count": 3,
   "metadata": {
    "collapsed": true
   },
   "outputs": [],
   "source": [
    "# def sine_wave(frequency=440.0, framerate=44100, amplitude=0.5):\n",
    "#     if amplitude > 1.0: amplitude = 1.0\n",
    "#     if amplitude < 0.0: amplitude = 0.0\n",
    "#     return (float(amplitude) * math.sin(2.0*math.pi*float(frequency)*(float(i)/float(framerate))) for i in count(0))"
   ]
  },
  {
   "cell_type": "code",
   "execution_count": 5,
   "metadata": {
    "collapsed": true
   },
   "outputs": [],
   "source": [
    "def sine_wave(frequency=440.0, framerate=44100, amplitude=0.5):\n",
    "    period = int(framerate / frequency)\n",
    "    if amplitude > 1.0: amplitude = 1.0\n",
    "    if amplitude < 0.0: amplitude = 0.0\n",
    "    lookup_table = [float(amplitude) * math.sin(2.0*math.pi*float(frequency)*(float(i%period)/float(framerate))) for i in xrange(period)]\n",
    "    return (lookup_table[i%period] for i in count(0))"
   ]
  },
  {
   "cell_type": "code",
   "execution_count": 6,
   "metadata": {
    "collapsed": true
   },
   "outputs": [],
   "source": [
    "def white_noise(amplitude=0.5):\n",
    "    return (float(amplitude) * random.uniform(-1, 1) for _ in count(0))"
   ]
  },
  {
   "cell_type": "code",
   "execution_count": 7,
   "metadata": {
    "collapsed": true
   },
   "outputs": [],
   "source": [
    "noise = cycle(islice(white_noise(), 44100))"
   ]
  },
  {
   "cell_type": "code",
   "execution_count": 13,
   "metadata": {
    "collapsed": false
   },
   "outputs": [],
   "source": [
    "channels = ((sine_wave(200.0, amplitude=0.1), white_noise(amplitude=0.001)),\n",
    "            (sine_wave(205.0, amplitude=0.1), white_noise(amplitude=0.001)))"
   ]
  },
  {
   "cell_type": "code",
   "execution_count": 14,
   "metadata": {
    "collapsed": true
   },
   "outputs": [],
   "source": [
    "def compute_samples(channels, nsamples=None):\n",
    "    return islice(izip(*(imap(sum, izip(*channel)) for channel in channels)), nsamples)"
   ]
  },
  {
   "cell_type": "code",
   "execution_count": 20,
   "metadata": {
    "collapsed": false
   },
   "outputs": [],
   "source": [
    "nchannels=len(channels)\n",
    "sampwidth = 2\n",
    "framerate= 44100\n",
    "nframes= 44100*10\n",
    "w = wave.open('filename.wav', 'w')\n",
    "w.setparams((nchannels, sampwidth, framerate, nframes, 'NONE', 'not compressed'))"
   ]
  },
  {
   "cell_type": "code",
   "execution_count": 23,
   "metadata": {
    "collapsed": false
   },
   "outputs": [],
   "source": [
    "max_amplitude = 32767.0\n",
    "samples = [-32767, 32767]\n",
    "samples = (int(sample * max_amplitude) for sample in samples)"
   ]
  },
  {
   "cell_type": "code",
   "execution_count": 24,
   "metadata": {
    "collapsed": false
   },
   "outputs": [
    {
     "data": {
      "text/plain": [
       "'\\xe8\\x03'"
      ]
     },
     "execution_count": 24,
     "metadata": {},
     "output_type": "execute_result"
    }
   ],
   "source": [
    "struct.pack('h', 1000)"
   ]
  },
  {
   "cell_type": "code",
   "execution_count": 25,
   "metadata": {
    "collapsed": true
   },
   "outputs": [],
   "source": [
    "def grouper(n, iterable, fillvalue=None):\n",
    "    \"grouper(3, 'ABCDEFG', 'x') --> ABC DEF Gxx\"\n",
    "    args = [iter(iterable)] * n\n",
    "    return izip_longest(fillvalue=fillvalue, *args)\n",
    "\n",
    "def write_wavefile(filename, samples, nframes=None, nchannels=2, sampwidth=2, framerate=44100, bufsize=2048):\n",
    "    if nframes is None:\n",
    "        nframes = -1\n",
    "\n",
    "    w = wave.open(filename, 'w')\n",
    "    w.setparams((nchannels, sampwidth, framerate, nframes, 'NONE', 'not compressed'))\n",
    "\n",
    "    max_amplitude = float(int((2 ** (sampwidth * 8)) / 2) - 1)\n",
    "\n",
    "    # split the samples into chunks (to reduce memory consumption and improve performance)\n",
    "    for chunk in grouper(bufsize, samples):\n",
    "        frames = ''.join(''.join(struct.pack('h', int(max_amplitude * sample)) for sample in channels) for channels in chunk if channels is not None)\n",
    "        w.writeframesraw(frames)\n",
    "\n",
    "    w.close()\n",
    "\n",
    "    return filename"
   ]
  }
 ],
 "metadata": {
  "kernelspec": {
   "display_name": "Python 2",
   "language": "python",
   "name": "python2"
  },
  "language_info": {
   "codemirror_mode": {
    "name": "ipython",
    "version": 2
   },
   "file_extension": ".py",
   "mimetype": "text/x-python",
   "name": "python",
   "nbconvert_exporter": "python",
   "pygments_lexer": "ipython2",
   "version": "2.7.9"
  }
 },
 "nbformat": 4,
 "nbformat_minor": 2
}
