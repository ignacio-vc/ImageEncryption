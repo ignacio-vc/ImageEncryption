{
 "cells": [
  {
   "cell_type": "markdown",
   "metadata": {},
   "source": [
    "### De prueba"
   ]
  },
  {
   "cell_type": "code",
   "execution_count": 1,
   "metadata": {
    "collapsed": true
   },
   "outputs": [],
   "source": [
    "from pylab import *\n",
    "from scipy.integrate import *\n",
    "from binascii import *\n",
    "from PIL import Image\n",
    "%matplotlib inline"
   ]
  },
  {
   "cell_type": "code",
   "execution_count": 2,
   "metadata": {
    "collapsed": false
   },
   "outputs": [
    {
     "name": "stdout",
     "output_type": "stream",
     "text": [
      "SSdtIGtpbGxpbmcgeW91ciBicmFpbiBsaWtlIGEgcG9pc29ub3VzIG11c2hyb29t\n",
      "\n"
     ]
    }
   ],
   "source": [
    "import binascii\n",
    "#define starting string\n",
    "h = \"49276d206b696c6c696e6720796f757220627261696e206c696b65206120706f69736f6e6f7573206d757368726f6f6d\"\n",
    "hex = h.decode(\"hex\")\n",
    "base = binascii.b2a_base64(hex)\n",
    "print(base)"
   ]
  },
  {
   "cell_type": "code",
   "execution_count": 3,
   "metadata": {
    "collapsed": true
   },
   "outputs": [],
   "source": [
    "def hexxorA(a, b):\n",
    "    if len(a) > len(b):\n",
    "        return \"\".join([\"%x\" % (int(x,16) ^ int(y,16)) for (x, y) in zip(a[:len(b)], b)])\n",
    "    else:\n",
    "        return \"\".join([\"%x\" % (int(x,16) ^ int(y,16)) for (x, y) in zip(a, b[:len(a)])])\n",
    "\n",
    "def hexxorB(a, b):\n",
    "    if len(a) > len(b):\n",
    "        return '%x' % (int(a[:len(b)],16)^int(b,16))\n",
    "    else:\n",
    "        return '%x' % (int(a,16)^int(b[:len(a)],16))\n",
    "\n"
   ]
  },
  {
   "cell_type": "code",
   "execution_count": 4,
   "metadata": {
    "collapsed": false
   },
   "outputs": [
    {
     "name": "stdout",
     "output_type": "stream",
     "text": [
      "746865206b696420646f6e277420706c6179 36\n",
      "746865206b696420646f6e277420706c6179 36\n"
     ]
    }
   ],
   "source": [
    "a='1c0111001f010100061a024b53535009181c'\n",
    "b='686974207468652062756c6c277320657965'\n",
    "c=hexxorA(a,b)\n",
    "d=hexxorB(a,b)\n",
    "print c,len(c)\n",
    "print d,len(d)"
   ]
  },
  {
   "cell_type": "code",
   "execution_count": 5,
   "metadata": {
    "collapsed": false
   },
   "outputs": [
    {
     "name": "stdout",
     "output_type": "stream",
     "text": [
      "('h', 104, '0b1101000')\n",
      "('e', 101, '0b1100101')\n",
      "('l', 108, '0b1101100')\n",
      "('l', 108, '0b1101100')\n",
      "('o', 111, '0b1101111')\n",
      "(' ', 32, '0b100000')\n",
      "('w', 119, '0b1110111')\n",
      "('o', 111, '0b1101111')\n",
      "('r', 114, '0b1110010')\n",
      "('l', 108, '0b1101100')\n",
      "('d', 100, '0b1100100')\n",
      "('!', 33, '0b100001')\n"
     ]
    }
   ],
   "source": [
    "for ch in \"hello world!\":\n",
    "    d = ord(ch)\n",
    "    b = bin(d)\n",
    "    print(ch, d, b)"
   ]
  },
  {
   "cell_type": "code",
   "execution_count": 6,
   "metadata": {
    "collapsed": false
   },
   "outputs": [
    {
     "name": "stdout",
     "output_type": "stream",
     "text": [
      "127\n",
      "0b1111111\n",
      "0\n",
      "0b0\n"
     ]
    }
   ],
   "source": [
    "print 93|39\n",
    "print bin(93|39)\n",
    "\n",
    "print 0&1\n",
    "print bin(0&1)\n"
   ]
  },
  {
   "cell_type": "code",
   "execution_count": 7,
   "metadata": {
    "collapsed": false
   },
   "outputs": [
    {
     "data": {
      "text/plain": [
       "5005"
      ]
     },
     "execution_count": 7,
     "metadata": {},
     "output_type": "execute_result"
    }
   ],
   "source": [
    "10011 >> 1 #returns x with the bits shifted to the right by y places"
   ]
  },
  {
   "cell_type": "code",
   "execution_count": 8,
   "metadata": {
    "collapsed": false
   },
   "outputs": [
    {
     "data": {
      "text/plain": [
       "1"
      ]
     },
     "execution_count": 8,
     "metadata": {},
     "output_type": "execute_result"
    }
   ],
   "source": [
    ">>> 10011 & 1"
   ]
  },
  {
   "cell_type": "code",
   "execution_count": 9,
   "metadata": {
    "collapsed": false
   },
   "outputs": [
    {
     "data": {
      "text/plain": [
       "0"
      ]
     },
     "execution_count": 9,
     "metadata": {},
     "output_type": "execute_result"
    }
   ],
   "source": [
    ">>> 10010 & 1"
   ]
  },
  {
   "cell_type": "code",
   "execution_count": 10,
   "metadata": {
    "collapsed": false
   },
   "outputs": [
    {
     "name": "stdout",
     "output_type": "stream",
     "text": [
      "0b1001000\n",
      "0\n",
      "0\n",
      "0\n",
      "1\n",
      "0\n",
      "0\n",
      "1\n"
     ]
    }
   ],
   "source": [
    "x = ord('H')\n",
    "print bin(x)\n",
    "\n",
    "while x > 0:\n",
    "    print x & 1\n",
    "    x = x >> 1\n"
   ]
  },
  {
   "cell_type": "code",
   "execution_count": 11,
   "metadata": {
    "collapsed": false
   },
   "outputs": [
    {
     "name": "stdout",
     "output_type": "stream",
     "text": [
      "0b1000001\n",
      "1\n",
      "0\n",
      "0\n",
      "0\n",
      "0\n",
      "0\n",
      "1\n"
     ]
    }
   ],
   "source": [
    "x = ord('A')\n",
    "print bin(x)\n",
    "\n",
    "while x > 0:\n",
    "    print x & 1\n",
    "    x = x >> 1\n"
   ]
  },
  {
   "cell_type": "code",
   "execution_count": 12,
   "metadata": {
    "collapsed": false
   },
   "outputs": [
    {
     "name": "stdout",
     "output_type": "stream",
     "text": [
      "(<PIL.PngImagePlugin.PngImageFile image mode=RGB size=480x480 at 0xAC3C7C6C>, 'RGB')\n",
      "35\n",
      "enc_proof.png saved!\n"
     ]
    }
   ],
   "source": [
    "def encode_image(img, msg):\n",
    "    \"\"\"\n",
    "    use the red portion of an image (r, g, b) tuple to\n",
    "    hide the msg string characters as ASCII values\n",
    "    red value of the first pixel is used for length of string\n",
    "    \"\"\"\n",
    "    length = len(msg)\n",
    "    # limit length of message to 255\n",
    "    if length > 255:\n",
    "        print(\"texto demasiado largo! ( max 255 caracteres)\")\n",
    "        return False\n",
    "    if img.mode != 'RGB':\n",
    "        print(\"LA imagen debe estar en modo RGB\")\n",
    "        return False\n",
    "    # use a copy of image to hide the text in\n",
    "    encoded = img.copy()\n",
    "    width, height = img.size\n",
    "    index = 0\n",
    "    for row in range(height):\n",
    "        for col in range(width):\n",
    "            r, g, b = img.getpixel((col, row))\n",
    "            # first value is length of msg\n",
    "            if row == 0 and col == 0 and index < length:\n",
    "                asc = length\n",
    "            elif index <= length:\n",
    "                c = msg[index -1]\n",
    "                asc = ord(c)\n",
    "            else:\n",
    "                asc = r\n",
    "            encoded.putpixel((col, row), (asc, g , b))\n",
    "            index += 1\n",
    "    return encoded\n",
    "def decode_image(img):\n",
    "    \"\"\"\n",
    "    check the red portion of an image (r, g, b) tuple for\n",
    "    hidden message characters (ASCII values)\n",
    "    \"\"\"\n",
    "    width, height = img.size\n",
    "    msg = \"\"\n",
    "    index = 0\n",
    "    for row in range(height):\n",
    "        for col in range(width):\n",
    "            try:\n",
    "                r, g, b = img.getpixel((col, row))\n",
    "            except ValueError:\n",
    "                # need to add transparency a for some .png files\n",
    "                r, g, b, a = img.getpixel((col, row))\t\t\n",
    "            # first pixel r value is length of message\n",
    "            if row == 0 and col == 0:\n",
    "                length = r\n",
    "            elif index <= length:\n",
    "                msg += chr(r)\n",
    "            index += 1\n",
    "    return msg\n",
    "# pick a .png or .bmp file you have in the working directory\n",
    "# or give full path name\n",
    "original_file = \"proof.png\"\n",
    "\n",
    "img = Image.open(original_file)\n",
    "# image mode needs to be 'RGB'\n",
    "print(img, img.mode)  # test\n",
    "# create a new filename for the modified/encoded image\n",
    "encoded_image_file = \"enc_\" + original_file\n",
    "# don't exceed 255 characters in the message\n",
    "secret_msg = \"Esta imagen tiene un mensaje oculto\"\n",
    "print(len(secret_msg))  # test\n",
    "img_encoded = encode_image(img, secret_msg)\n",
    "if img_encoded:\n",
    "    # save the image with the hidden text\n",
    "    img_encoded.save(encoded_image_file)\n",
    "    print(\"{} saved!\".format(encoded_image_file))\n",
    "    import webbrowser\n",
    "    webbrowser.open(encoded_image_file)"
   ]
  },
  {
   "cell_type": "code",
   "execution_count": 13,
   "metadata": {
    "collapsed": false
   },
   "outputs": [
    {
     "name": "stdout",
     "output_type": "stream",
     "text": [
      "Hidden text:\n",
      "Esta imagen tiene un mensaje oculto\n"
     ]
    }
   ],
   "source": [
    "#get the hidden text back ...\n",
    "img2 = Image.open(encoded_image_file)\n",
    "hidden_text = decode_image(img2)\n",
    "print(\"Hidden text:\\n{}\".format(hidden_text))"
   ]
  },
  {
   "cell_type": "code",
   "execution_count": 14,
   "metadata": {
    "collapsed": false
   },
   "outputs": [],
   "source": [
    "def square(x):\n",
    "    return int(x) * int(x)\n",
    "\n",
    "def happy(number):\n",
    "    return sum(map(square, list(str(number))))\n",
    "\n",
    "def is_happy(number):\n",
    "    seen_numbers = set()\n",
    "    while number > 1 and (number not in seen_numbers):\n",
    "        seen_numbers.add(number)\n",
    "        number = happy(number)\n",
    "    return number == 1\n",
    "\n"
   ]
  },
  {
   "cell_type": "code",
   "execution_count": 15,
   "metadata": {
    "collapsed": false
   },
   "outputs": [
    {
     "name": "stdout",
     "output_type": "stream",
     "text": [
      "True\n",
      "49\n"
     ]
    }
   ],
   "source": [
    "x=7\n",
    "print is_happy(x)\n",
    "print happy(x)"
   ]
  },
  {
   "cell_type": "code",
   "execution_count": null,
   "metadata": {
    "collapsed": true
   },
   "outputs": [],
   "source": []
  },
  {
   "cell_type": "code",
   "execution_count": null,
   "metadata": {
    "collapsed": true
   },
   "outputs": [],
   "source": []
  },
  {
   "cell_type": "code",
   "execution_count": null,
   "metadata": {
    "collapsed": true
   },
   "outputs": [],
   "source": []
  }
 ],
 "metadata": {
  "anaconda-cloud": {},
  "kernelspec": {
   "display_name": "Python [Root]",
   "language": "python",
   "name": "Python [Root]"
  },
  "language_info": {
   "codemirror_mode": {
    "name": "ipython",
    "version": 2
   },
   "file_extension": ".py",
   "mimetype": "text/x-python",
   "name": "python",
   "nbconvert_exporter": "python",
   "pygments_lexer": "ipython2",
   "version": "2.7.12"
  }
 },
 "nbformat": 4,
 "nbformat_minor": 0
}
