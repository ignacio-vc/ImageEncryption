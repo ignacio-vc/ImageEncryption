{
 "cells": [
  {
   "cell_type": "markdown",
   "metadata": {},
   "source": [
    "### De prueba"
   ]
  },
  {
   "cell_type": "code",
   "execution_count": 1,
   "metadata": {
    "collapsed": true
   },
   "outputs": [],
   "source": [
    "from pylab import *\n",
    "from scipy.integrate import *\n",
    "from binascii import *\n",
    "%matplotlib inline"
   ]
  },
  {
   "cell_type": "code",
   "execution_count": 3,
   "metadata": {
    "collapsed": false
   },
   "outputs": [
    {
     "name": "stdout",
     "output_type": "stream",
     "text": [
      "SSdtIGtpbGxpbmcgeW91ciBicmFpbiBsaWtlIGEgcG9pc29ub3VzIG11c2hyb29t\n",
      "\n"
     ]
    }
   ],
   "source": [
    "import binascii\n",
    "#define starting string\n",
    "h = \"49276d206b696c6c696e6720796f757220627261696e206c696b65206120706f69736f6e6f7573206d757368726f6f6d\"\n",
    "hex = h.decode(\"hex\")\n",
    "base = binascii.b2a_base64(hex)\n",
    "print(base)"
   ]
  },
  {
   "cell_type": "code",
   "execution_count": 15,
   "metadata": {
    "collapsed": true
   },
   "outputs": [],
   "source": [
    "def hexxorA(a, b):\n",
    "    if len(a) > len(b):\n",
    "        return \"\".join([\"%x\" % (int(x,16) ^ int(y,16)) for (x, y) in zip(a[:len(b)], b)])\n",
    "    else:\n",
    "        return \"\".join([\"%x\" % (int(x,16) ^ int(y,16)) for (x, y) in zip(a, b[:len(a)])])\n",
    "\n",
    "def hexxorB(a, b):\n",
    "    if len(a) > len(b):\n",
    "        return '%x' % (int(a[:len(b)],16)^int(b,16))\n",
    "    else:\n",
    "        return '%x' % (int(a,16)^int(b[:len(a)],16))\n",
    "\n"
   ]
  },
  {
   "cell_type": "code",
   "execution_count": 16,
   "metadata": {
    "collapsed": false
   },
   "outputs": [
    {
     "name": "stdout",
     "output_type": "stream",
     "text": [
      "746865206b696420646f6e277420706c6179 36\n",
      "746865206b696420646f6e277420706c6179 36\n"
     ]
    }
   ],
   "source": [
    "a='1c0111001f010100061a024b53535009181c'\n",
    "b='686974207468652062756c6c277320657965'\n",
    "c=hexxorA(a,b)\n",
    "d=hexxorB(a,b)\n",
    "print c,len(c)\n",
    "print d,len(d)"
   ]
  },
  {
   "cell_type": "code",
   "execution_count": 22,
   "metadata": {
    "collapsed": false
   },
   "outputs": [
    {
     "name": "stdout",
     "output_type": "stream",
     "text": [
      "('h', 104, '0b1101000')\n",
      "('e', 101, '0b1100101')\n",
      "('l', 108, '0b1101100')\n",
      "('l', 108, '0b1101100')\n",
      "('o', 111, '0b1101111')\n",
      "(' ', 32, '0b100000')\n",
      "('w', 119, '0b1110111')\n",
      "('o', 111, '0b1101111')\n",
      "('r', 114, '0b1110010')\n",
      "('l', 108, '0b1101100')\n",
      "('d', 100, '0b1100100')\n",
      "('!', 33, '0b100001')\n"
     ]
    }
   ],
   "source": [
    "for ch in \"hello world!\":\n",
    "    d = ord(ch)\n",
    "    b = bin(d)\n",
    "    print(ch, d, b)"
   ]
  },
  {
   "cell_type": "code",
   "execution_count": 11,
   "metadata": {
    "collapsed": false
   },
   "outputs": [
    {
     "name": "stdout",
     "output_type": "stream",
     "text": [
      "127\n",
      "0b1111111\n",
      "0x7f\n",
      "0x5d\n",
      "0x27\n",
      "0\n",
      "0b0\n",
      "0x0\n"
     ]
    }
   ],
   "source": [
    "print 93|39\n",
    "print bin(93 | 39)\n",
    "print hex(93 | 39)\n",
    "print hex(93)\n",
    "print hex(39)\n",
    "\n",
    "print 0&1\n",
    "print bin(0 & 1)\n",
    "print hex(0 & 1)"
   ]
  },
  {
   "cell_type": "code",
   "execution_count": 14,
   "metadata": {
    "collapsed": false
   },
   "outputs": [
    {
     "data": {
      "text/plain": [
       "5005"
      ]
     },
     "execution_count": 14,
     "metadata": {},
     "output_type": "execute_result"
    }
   ],
   "source": [
    "10011 >> 1 #returns x with the bits shifted to the right by y places"
   ]
  },
  {
   "cell_type": "code",
   "execution_count": 18,
   "metadata": {
    "collapsed": false
   },
   "outputs": [
    {
     "data": {
      "text/plain": [
       "1"
      ]
     },
     "execution_count": 18,
     "metadata": {},
     "output_type": "execute_result"
    }
   ],
   "source": [
    ">>> 10011 & 1"
   ]
  },
  {
   "cell_type": "code",
   "execution_count": 19,
   "metadata": {
    "collapsed": false
   },
   "outputs": [
    {
     "data": {
      "text/plain": [
       "0"
      ]
     },
     "execution_count": 19,
     "metadata": {},
     "output_type": "execute_result"
    }
   ],
   "source": [
    ">>> 10010 & 1"
   ]
  },
  {
   "cell_type": "code",
   "execution_count": 20,
   "metadata": {
    "collapsed": false
   },
   "outputs": [
    {
     "name": "stdout",
     "output_type": "stream",
     "text": [
      "0b1001000\n",
      "0\n",
      "0\n",
      "0\n",
      "1\n",
      "0\n",
      "0\n",
      "1\n"
     ]
    }
   ],
   "source": [
    "x = ord('H')\n",
    "print bin(x)\n",
    "\n",
    "while x > 0:\n",
    "    print x & 1\n",
    "    x = x >> 1\n"
   ]
  },
  {
   "cell_type": "code",
   "execution_count": 21,
   "metadata": {
    "collapsed": false
   },
   "outputs": [
    {
     "name": "stdout",
     "output_type": "stream",
     "text": [
      "0b1000001\n",
      "1\n",
      "0\n",
      "0\n",
      "0\n",
      "0\n",
      "0\n",
      "1\n"
     ]
    }
   ],
   "source": [
    "x = ord('A')\n",
    "print bin(x)\n",
    "\n",
    "while x > 0:\n",
    "    print x & 1\n",
    "    x = x >> 1\n"
   ]
  },
  {
   "cell_type": "code",
   "execution_count": 26,
   "metadata": {
    "collapsed": false
   },
   "outputs": [
    {
     "ename": "NameError",
     "evalue": "name 'image' is not defined",
     "output_type": "error",
     "traceback": [
      "\u001b[1;31m---------------------------------------------------------------------------\u001b[0m",
      "\u001b[1;31mNameError\u001b[0m                                 Traceback (most recent call last)",
      "\u001b[1;32m<ipython-input-26-43be1d002357>\u001b[0m in \u001b[0;36m<module>\u001b[1;34m()\u001b[0m\n\u001b[0;32m      1\u001b[0m \u001b[1;31m#import image\u001b[0m\u001b[1;33m\u001b[0m\u001b[1;33m\u001b[0m\u001b[0m\n\u001b[0;32m      2\u001b[0m \u001b[1;33m\u001b[0m\u001b[0m\n\u001b[1;32m----> 3\u001b[1;33m \u001b[0mfg\u001b[0m \u001b[1;33m=\u001b[0m \u001b[0mimage\u001b[0m\u001b[1;33m.\u001b[0m\u001b[0mImage\u001b[0m\u001b[1;33m(\u001b[0m\u001b[1;34m'secret.png'\u001b[0m\u001b[1;33m)\u001b[0m\u001b[1;33m\u001b[0m\u001b[0m\n\u001b[0m\u001b[0;32m      4\u001b[0m \u001b[0mnewIm\u001b[0m \u001b[1;33m=\u001b[0m \u001b[0mimage\u001b[0m\u001b[1;33m.\u001b[0m\u001b[0mEmptyImage\u001b[0m\u001b[1;33m(\u001b[0m\u001b[0mfg\u001b[0m\u001b[1;33m.\u001b[0m\u001b[0mgetWidth\u001b[0m\u001b[1;33m(\u001b[0m\u001b[1;33m)\u001b[0m\u001b[1;33m,\u001b[0m\u001b[0mfg\u001b[0m\u001b[1;33m.\u001b[0m\u001b[0mgetHeight\u001b[0m\u001b[1;33m(\u001b[0m\u001b[1;33m)\u001b[0m\u001b[1;33m)\u001b[0m\u001b[1;33m\u001b[0m\u001b[0m\n\u001b[0;32m      5\u001b[0m \u001b[1;33m\u001b[0m\u001b[0m\n",
      "\u001b[1;31mNameError\u001b[0m: name 'image' is not defined"
     ]
    }
   ],
   "source": [
    "import image\n",
    "\n",
    "fg = image.Image('secret.png')\n",
    "newIm = image.EmptyImage(fg.getWidth(),fg.getHeight())\n",
    "\n",
    "for row in range(fg.getHeight()):\n",
    "    for col in range(fg.getWidth()):\n",
    "        fgpix = fg.getPixel(col,row)\n",
    "        fgr = fgpix.getRed()\n",
    "\n",
    "        if fgr % 2 == 0:\n",
    "            newPix = image.Pixel(255,255,255)\n",
    "        else:\n",
    "            newPix = image.Pixel(0,0,0)\n",
    "        newIm.setPixel(col,row,newPix)\n",
    "\n",
    "win = image.ImageWin(500,400)\n",
    "newIm.draw(win)\n",
    "win.exitonclick()\n",
    "\n",
    "for row in range(fg.getHeight()):\n",
    "    for col in range(fg.getWidth()):\n",
    "        fgpix = fg.getPixel(col,row)\n",
    "        fgr = fgpix.getRed()\n",
    "        fgg = fgpix.getGreen()\n",
    "        fgb = fgpix.getBlue()\n",
    "\n",
    "        redbit = bitstream.next()\n",
    "        fgr = setbit(fgr,redbit)\n",
    "\n",
    "        greenbit = bitstream.next()\n",
    "        fgg = setbit(fgg,greenbit)\n",
    "\n",
    "        bluebit = bitstream.next()\n",
    "        fgb = setbit(fgb,bluebit)\n",
    "        newPix = myimage.Pixel(fgr,fgg,fgb)\n",
    "        newIm.setPixel(col,row,newPix)\n",
    "\n",
    "newIm.save('ascii_secret.png')\n"
   ]
  },
  {
   "cell_type": "code",
   "execution_count": null,
   "metadata": {
    "collapsed": false
   },
   "outputs": [],
   "source": [
    "import random\n",
    "mess = input('Mensaje? ')\n",
    "\n",
    "def bit_generator(mess):\n",
    "    for ch in mess:\n",
    "        ascii = ord(ch)\n",
    "        ct = 0\n",
    "        while ct < 7:\n",
    "            yield ascii & 1\n",
    "            ascii = ascii >> 1\n",
    "            ct += 1\n",
    "    for i in range(7):\n",
    "        yield 0\n",
    "    while True:\n",
    "        yield random.randrange(1)\n",
    "\n",
    "bitstream = bit_generator(mess)\n",
    "\n",
    "def setbit(oldbyte,newbit):\n",
    "    if newbit:\n",
    "        return oldbyte | newbit\n",
    "    else:\n",
    "        return oldbyte & 0b11111110\n"
   ]
  },
  {
   "cell_type": "code",
   "execution_count": null,
   "metadata": {
    "collapsed": true
   },
   "outputs": [],
   "source": []
  },
  {
   "cell_type": "code",
   "execution_count": null,
   "metadata": {
    "collapsed": true
   },
   "outputs": [],
   "source": []
  }
 ],
 "metadata": {
  "anaconda-cloud": {},
  "kernelspec": {
   "display_name": "Python [Root]",
   "language": "python",
   "name": "Python [Root]"
  },
  "language_info": {
   "codemirror_mode": {
    "name": "ipython",
    "version": 2
   },
   "file_extension": ".py",
   "mimetype": "text/x-python",
   "name": "python",
   "nbconvert_exporter": "python",
   "pygments_lexer": "ipython2",
   "version": "2.7.12"
  }
 },
 "nbformat": 4,
 "nbformat_minor": 0
}
