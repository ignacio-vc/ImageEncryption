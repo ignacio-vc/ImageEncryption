{
 "cells": [
  {
   "cell_type": "markdown",
   "metadata": {},
   "source": [
    "### De prueba"
   ]
  },
  {
   "cell_type": "code",
   "execution_count": 1,
   "metadata": {
    "collapsed": true
   },
   "outputs": [],
   "source": [
    "from pylab import *\n",
    "from scipy.integrate import *\n",
    "from binascii import *\n",
    "%matplotlib inline"
   ]
  },
  {
   "cell_type": "code",
   "execution_count": 3,
   "metadata": {
    "collapsed": false
   },
   "outputs": [
    {
     "name": "stdout",
     "output_type": "stream",
     "text": [
      "SSdtIGtpbGxpbmcgeW91ciBicmFpbiBsaWtlIGEgcG9pc29ub3VzIG11c2hyb29t\n",
      "\n"
     ]
    }
   ],
   "source": [
    "import binascii\n",
    "#define starting string\n",
    "h = \"49276d206b696c6c696e6720796f757220627261696e206c696b65206120706f69736f6e6f7573206d757368726f6f6d\"\n",
    "hex = h.decode(\"hex\")\n",
    "base = binascii.b2a_base64(hex)\n",
    "print(base)"
   ]
  },
  {
   "cell_type": "code",
   "execution_count": 15,
   "metadata": {
    "collapsed": true
   },
   "outputs": [],
   "source": [
    "def hexxorA(a, b):\n",
    "    if len(a) > len(b):\n",
    "        return \"\".join([\"%x\" % (int(x,16) ^ int(y,16)) for (x, y) in zip(a[:len(b)], b)])\n",
    "    else:\n",
    "        return \"\".join([\"%x\" % (int(x,16) ^ int(y,16)) for (x, y) in zip(a, b[:len(a)])])\n",
    "\n",
    "def hexxorB(a, b):\n",
    "    if len(a) > len(b):\n",
    "        return '%x' % (int(a[:len(b)],16)^int(b,16))\n",
    "    else:\n",
    "        return '%x' % (int(a,16)^int(b[:len(a)],16))\n",
    "\n"
   ]
  },
  {
   "cell_type": "code",
   "execution_count": 16,
   "metadata": {
    "collapsed": false
   },
   "outputs": [
    {
     "name": "stdout",
     "output_type": "stream",
     "text": [
      "746865206b696420646f6e277420706c6179 36\n",
      "746865206b696420646f6e277420706c6179 36\n"
     ]
    }
   ],
   "source": [
    "a='1c0111001f010100061a024b53535009181c'\n",
    "b='686974207468652062756c6c277320657965'\n",
    "c=hexxorA(a,b)\n",
    "d=hexxorB(a,b)\n",
    "print c,len(c)\n",
    "print d,len(d)"
   ]
  },
  {
   "cell_type": "code",
   "execution_count": null,
   "metadata": {
    "collapsed": true
   },
   "outputs": [],
   "source": []
  }
 ],
 "metadata": {
  "anaconda-cloud": {},
  "kernelspec": {
   "display_name": "Python [Root]",
   "language": "python",
   "name": "Python [Root]"
  },
  "language_info": {
   "codemirror_mode": {
    "name": "ipython",
    "version": 2
   },
   "file_extension": ".py",
   "mimetype": "text/x-python",
   "name": "python",
   "nbconvert_exporter": "python",
   "pygments_lexer": "ipython2",
   "version": "2.7.12"
  }
 },
 "nbformat": 4,
 "nbformat_minor": 0
}
