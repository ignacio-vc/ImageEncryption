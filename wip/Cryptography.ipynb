{
 "cells": [
  {
   "cell_type": "markdown",
   "metadata": {},
   "source": [
    "#### Encrypt and Descrypt"
   ]
  },
  {
   "cell_type": "code",
   "execution_count": 11,
   "metadata": {
    "collapsed": false
   },
   "outputs": [
    {
     "name": "stdout",
     "output_type": "stream",
     "text": [
      "Do you wish to encrypt or decrypt a message?\n",
      "decrypt\n",
      "Enter your message:\n",
      "Gur fxl nobir gur cbeg jnf gur pbybe bs gryrivfvba, gharq gb n qrnq punaary.\n",
      "Enter the key number (1-26)\n",
      "13\n",
      "Your translated text is:\n",
      "The sky above the port was the color of television, tuned to a dead channel.\n"
     ]
    }
   ],
   "source": [
    "MAX_KEY_SIZE=26\n",
    "def getMode():\n",
    "     while True:\n",
    "        print('Do you wish to encrypt or decrypt a message?')\n",
    "        mode = input().lower()\n",
    "        if mode in 'encrypt e decrypt d'.split():\n",
    "            return mode\n",
    "        else:\n",
    "            print('Enter either \"encrypt\" or \"e\" or \"decrypt\" or \"d\".')\n",
    "\n",
    "def getMessage():\n",
    "    print('Enter your message:')\n",
    "    return input()\n",
    "\n",
    "def getKey():\n",
    "    key = 0\n",
    "    while True:\n",
    "        print('Enter the key number (1-%s)' % (MAX_KEY_SIZE))\n",
    "        key = int(input())\n",
    "        if (key >= 1 and key <= MAX_KEY_SIZE):\n",
    "            return key\n",
    "\n",
    "def getTranslatedMessage(mode, message, key):\n",
    "    if mode[0] == 'd':\n",
    "        key = -key\n",
    "    translated = ''\n",
    "\n",
    "    for symbol in message:\n",
    "        if symbol.isalpha():\n",
    "            num = ord(symbol)\n",
    "            num += key\n",
    "\n",
    "            if symbol.isupper():\n",
    "                if num > ord('Z'):\n",
    "                    num -= 26\n",
    "                elif num < ord('A'):\n",
    "                        num += 26\n",
    "            elif symbol.islower():\n",
    "                if num > ord('z'):\n",
    "                    num -= 26\n",
    "                elif num < ord('a'):\n",
    "                    num += 26\n",
    "\n",
    "            translated += chr(num)\n",
    "        else:\n",
    "            translated += symbol\n",
    "    return translated\n",
    "mode = getMode()\n",
    "message = getMessage()\n",
    "key = getKey()\n",
    "print('Your translated text is:')\n",
    "print(getTranslatedMessage(mode, message, key))"
   ]
  },
  {
   "cell_type": "markdown",
   "metadata": {},
   "source": [
    "#### Burte Force"
   ]
  },
  {
   "cell_type": "code",
   "execution_count": 13,
   "metadata": {
    "collapsed": false
   },
   "outputs": [
    {
     "name": "stdout",
     "output_type": "stream",
     "text": [
      "Do you wish to encrypt or decrypt a message?\n",
      "brute\n",
      "Enter your message:\n",
      "Lwcjba uig vwb jm xtmiaivb, jcb kmzbiqvbg qa ijaczl.\n",
      "Your translated text is:\n",
      "1 Kvbiaz thf uva il wslhzhua, iba jlyahpuaf pz hizbyk.\n",
      "2 Juahzy sge tuz hk vrkgygtz, haz ikxzgotze oy ghyaxj.\n",
      "3 Itzgyx rfd sty gj uqjfxfsy, gzy hjwyfnsyd nx fgxzwi.\n",
      "4 Hsyfxw qec rsx fi tpiewerx, fyx givxemrxc mw efwyvh.\n",
      "5 Grxewv pdb qrw eh sohdvdqw, exw fhuwdlqwb lv devxug.\n",
      "6 Fqwdvu oca pqv dg rngcucpv, dwv egtvckpva ku cduwtf.\n",
      "7 Epvcut nbz opu cf qmfbtbou, cvu dfsubjouz jt bctvse.\n",
      "8 Doubts may not be pleasant, but certainty is absurd.\n",
      "9 Cntasr lzx mns ad okdzrzms, ats bdqszhmsx hr zartqc.\n",
      "10 Bmszrq kyw lmr zc njcyqylr, zsr acpryglrw gq yzqspb.\n",
      "11 Alryqp jxv klq yb mibxpxkq, yrq zboqxfkqv fp xyproa.\n",
      "12 Zkqxpo iwu jkp xa lhawowjp, xqp yanpwejpu eo wxoqnz.\n",
      "13 Yjpwon hvt ijo wz kgzvnvio, wpo xzmovdiot dn vwnpmy.\n",
      "14 Xiovnm gus hin vy jfyumuhn, von wylnuchns cm uvmolx.\n",
      "15 Whnuml ftr ghm ux iextltgm, unm vxkmtbgmr bl tulnkw.\n",
      "16 Vgmtlk esq fgl tw hdwsksfl, tml uwjlsaflq ak stkmjv.\n",
      "17 Uflskj drp efk sv gcvrjrek, slk tvikrzekp zj rsjliu.\n",
      "18 Tekrji cqo dej ru fbuqiqdj, rkj suhjqydjo yi qrikht.\n",
      "19 Sdjqih bpn cdi qt eatphpci, qji rtgipxcin xh pqhjgs.\n",
      "20 Rciphg aom bch ps dzsogobh, pih qsfhowbhm wg opgifr.\n",
      "21 Qbhogf znl abg or cyrnfnag, ohg pregnvagl vf nofheq.\n",
      "22 Pagnfe ymk zaf nq bxqmemzf, ngf oqdfmuzfk ue mnegdp.\n",
      "23 Ozfmed xlj yze mp awpldlye, mfe npceltyej td lmdfco.\n",
      "24 Nyeldc wki xyd lo zvokckxd, led mobdksxdi sc klcebn.\n",
      "25 Mxdkcb vjh wxc kn yunjbjwc, kdc lnacjrwch rb jkbdam.\n",
      "26 Lwcjba uig vwb jm xtmiaivb, jcb kmzbiqvbg qa ijaczl.\n"
     ]
    }
   ],
   "source": [
    "MAX_KEY_SIZE=26\n",
    "def getMode():\n",
    "     while True:\n",
    "        print('Do you wish to encrypt or decrypt a message?')\n",
    "        mode = input().lower()\n",
    "        if mode in 'encrypt e decrypt d brute b'.split():\n",
    "            return mode[0]\n",
    "        else:\n",
    "            print('Enter either \"encrypt\" or \"e\" or \"decrypt\" or \"d\" or \"brute\" or \"b\".')\n",
    "\n",
    "def getMessage():\n",
    "    print('Enter your message:')\n",
    "    return input()\n",
    "\n",
    "def getKey():\n",
    "    key = 0\n",
    "    while True:\n",
    "        print('Enter the key number (1-%s)' % (MAX_KEY_SIZE))\n",
    "        key = int(input())\n",
    "        if (key >= 1 and key <= MAX_KEY_SIZE):\n",
    "            return key\n",
    "\n",
    "def getTranslatedMessage(mode, message, key):\n",
    "    if mode[0] == 'd':\n",
    "        key = -key\n",
    "    translated = ''\n",
    "\n",
    "    for symbol in message:\n",
    "        if symbol.isalpha():\n",
    "            num = ord(symbol)\n",
    "            num += key\n",
    "\n",
    "            if symbol.isupper():\n",
    "                if num > ord('Z'):\n",
    "                    num -= 26\n",
    "                elif num < ord('A'):\n",
    "                        num += 26\n",
    "            elif symbol.islower():\n",
    "                if num > ord('z'):\n",
    "                    num -= 26\n",
    "                elif num < ord('a'):\n",
    "                    num += 26\n",
    "\n",
    "            translated += chr(num)\n",
    "        else:\n",
    "            translated += symbol\n",
    "    return translated\n",
    "mode = getMode()\n",
    "message = getMessage()\n",
    "if mode[0]!='b':\n",
    "    key = getKey()\n",
    "print('Your translated text is:')\n",
    "if mode[0]!='b':\n",
    "    print(getTranslatedMessage(mode, message, key))\n",
    "else:\n",
    "    for key in range(1,MAX_KEY_SIZE+1):\n",
    "        print(key, getTranslatedMessage('decrypt', message, key))"
   ]
  },
  {
   "cell_type": "code",
   "execution_count": null,
   "metadata": {
    "collapsed": true
   },
   "outputs": [],
   "source": []
  }
 ],
 "metadata": {
  "anaconda-cloud": {},
  "kernelspec": {
   "display_name": "Python [conda root]",
   "language": "python",
   "name": "conda-root-py"
  },
  "language_info": {
   "codemirror_mode": {
    "name": "ipython",
    "version": 3
   },
   "file_extension": ".py",
   "mimetype": "text/x-python",
   "name": "python",
   "nbconvert_exporter": "python",
   "pygments_lexer": "ipython3",
   "version": "3.5.2"
  }
 },
 "nbformat": 4,
 "nbformat_minor": 1
}
